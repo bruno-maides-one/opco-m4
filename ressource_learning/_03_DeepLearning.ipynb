{
 "cells": [
  {
   "cell_type": "markdown",
   "id": "58bff191",
   "metadata": {},
   "source": [
    "# CNN pour la classification d'images MNIST (Keras / TensorFlow)"
   ]
  },
  {
   "cell_type": "code",
   "execution_count": null,
   "id": "fbd66dc7",
   "metadata": {},
   "outputs": [],
   "source": [
    "import numpy as np\n",
    "import matplotlib.pyplot as plt\n",
    "from tensorflow.keras.datasets import mnist, imdb\n",
    "from tensorflow.keras.utils import to_categorical\n",
    "from tensorflow.keras.models import Sequential\n",
    "from tensorflow.keras.layers import Conv2D, MaxPooling2D, Flatten, Dense, Embedding, SimpleRNN\n",
    "from tensorflow.keras.preprocessing.sequence import pad_sequences"
   ]
  },
  {
   "cell_type": "code",
   "execution_count": null,
   "id": "ce0321b3",
   "metadata": {},
   "outputs": [],
   "source": [
    "# 1. Chargement des données\n",
    "(X_train, y_train), (X_test, y_test) = mnist.load_data()\n",
    "print(\"Taille train :\", X_train.shape, \"| Taille test :\", X_test.shape)"
   ]
  },
  {
   "cell_type": "code",
   "execution_count": null,
   "id": "f0c50542",
   "metadata": {},
   "outputs": [],
   "source": [
    "# 2. Prétraitement\n",
    "X_train = X_train.reshape(-1, 28, 28, 1) / 255.0\n",
    "X_test = X_test.reshape(-1, 28, 28, 1) / 255.0\n",
    "y_train = to_categorical(y_train, 10)\n",
    "y_test = to_categorical(y_test, 10)"
   ]
  },
  {
   "cell_type": "code",
   "execution_count": null,
   "id": "c7e5a56d",
   "metadata": {},
   "outputs": [],
   "source": [
    "# 3. Modélisation CNN\n",
    "model = Sequential([\n",
    "    Conv2D(32, (3,3), activation='relu', input_shape=(28,28,1)),\n",
    "    MaxPooling2D((2,2)),\n",
    "    Conv2D(64, (3,3), activation='relu'),\n",
    "    MaxPooling2D((2,2)),\n",
    "    Flatten(),\n",
    "    Dense(64, activation='relu'),\n",
    "    Dense(10, activation='softmax')\n",
    "])\n",
    "\n",
    "model.compile(optimizer='adam', loss='categorical_crossentropy', metrics=['accuracy'])\n",
    "model.summary()"
   ]
  },
  {
   "cell_type": "code",
   "execution_count": null,
   "id": "c0eb7797",
   "metadata": {},
   "outputs": [],
   "source": [
    "# 4. Entraînement\n",
    "history = model.fit(X_train, y_train, epochs=5, batch_size=128, validation_split=0.1)"
   ]
  },
  {
   "cell_type": "code",
   "execution_count": null,
   "id": "82c69e37",
   "metadata": {},
   "outputs": [],
   "source": [
    "# 5. Évaluation\n",
    "loss, acc = model.evaluate(X_test, y_test)\n",
    "print(f\"Accuracy sur le test : {acc:.3f}\")"
   ]
  },
  {
   "cell_type": "code",
   "execution_count": null,
   "id": "c5ee05b8",
   "metadata": {},
   "outputs": [],
   "source": [
    "# 6. Visualisation de la performance\n",
    "plt.plot(history.history['accuracy'], label='train')\n",
    "plt.plot(history.history['val_accuracy'], label='validation')\n",
    "plt.legend()\n",
    "plt.title(\"Courbe d'apprentissage (accuracy)\")\n",
    "plt.show()"
   ]
  },
  {
   "cell_type": "markdown",
   "id": "1bfdbf3e",
   "metadata": {},
   "source": [
    "# RNN pour la classification de texte IMDB (Keras / TensorFlow)"
   ]
  },
  {
   "cell_type": "code",
   "execution_count": null,
   "id": "6d02ccaf",
   "metadata": {},
   "outputs": [],
   "source": [
    "# 1. Chargement des données\n",
    "max_features = 5000  # Nombre de mots à prendre en compte\n",
    "maxlen = 200         # Longueur maximale d'une séquence\n",
    "(X_train, y_train), (X_test, y_test) = imdb.load_data(num_words=max_features)\n",
    "print(\"Taille train :\", len(X_train), \"| Taille test :\", len(X_test))"
   ]
  },
  {
   "cell_type": "code",
   "execution_count": null,
   "id": "c8c9dc6c",
   "metadata": {},
   "outputs": [],
   "source": [
    "# 2. Prétraitement : padding\n",
    "X_train = pad_sequences(X_train, maxlen=maxlen)\n",
    "X_test = pad_sequences(X_test, maxlen=maxlen)"
   ]
  },
  {
   "cell_type": "code",
   "execution_count": null,
   "id": "3b409939",
   "metadata": {},
   "outputs": [],
   "source": [
    "# 3. Modélisation RNN\n",
    "model = Sequential([\n",
    "    Embedding(max_features, 64, input_length=maxlen),\n",
    "    SimpleRNN(32, activation='tanh'),\n",
    "    Dense(1, activation='sigmoid')\n",
    "])\n",
    "\n",
    "model.compile(optimizer='adam', loss='binary_crossentropy', metrics=['accuracy'])\n",
    "model.summary()"
   ]
  },
  {
   "cell_type": "code",
   "execution_count": null,
   "id": "d8dff8d0",
   "metadata": {},
   "outputs": [],
   "source": [
    "# 4. Entraînement\n",
    "history = model.fit(X_train, y_train, epochs=3, batch_size=128, validation_split=0.1)"
   ]
  },
  {
   "cell_type": "code",
   "execution_count": null,
   "id": "9b79dd3d",
   "metadata": {},
   "outputs": [],
   "source": [
    "# 5. Évaluation\n",
    "loss, acc = model.evaluate(X_test, y_test)\n",
    "print(f\"Accuracy sur le test : {acc:.3f}\")"
   ]
  },
  {
   "cell_type": "code",
   "execution_count": null,
   "id": "6ab512fe",
   "metadata": {},
   "outputs": [],
   "source": [
    "# 6. Visualisation de la performance\n",
    "import matplotlib.pyplot as plt\n",
    "plt.plot(history.history['accuracy'], label='train')\n",
    "plt.plot(history.history['val_accuracy'], label='validation')\n",
    "plt.legend()\n",
    "plt.title(\"Courbe d'apprentissage (accuracy)\")\n",
    "plt.show()"
   ]
  }
 ],
 "metadata": {
  "language_info": {
   "name": "python"
  }
 },
 "nbformat": 4,
 "nbformat_minor": 5
}
