{
 "cells": [
  {
   "cell_type": "markdown",
   "id": "5f49c922",
   "metadata": {},
   "source": [
    "# Classification sur Iris Dataset avec Logistic Regression"
   ]
  },
  {
   "cell_type": "code",
   "execution_count": null,
   "id": "6f9dac12",
   "metadata": {},
   "outputs": [],
   "source": [
    "# 1. Imports\n",
    "import pandas as pd\n",
    "import numpy as np\n",
    "from sklearn.datasets import load_iris\n",
    "from sklearn.model_selection import train_test_split\n",
    "from sklearn.preprocessing import StandardScaler\n",
    "from sklearn.linear_model import LogisticRegression\n",
    "from sklearn.metrics import accuracy_score, confusion_matrix, classification_report\n",
    "import matplotlib.pyplot as plt\n",
    "import seaborn as sns"
   ]
  },
  {
   "cell_type": "code",
   "execution_count": null,
   "id": "9aad1ede",
   "metadata": {},
   "outputs": [],
   "source": [
    "# 2. Chargement du dataset Iris\n",
    "iris = load_iris(as_frame=True)\n",
    "X = iris.data\n",
    "y = iris.target\n",
    "\n",
    "print(\"Premières lignes du dataset :\")\n",
    "print(X.head())\n",
    "print(\"Classes cibles :\", iris.target_names)"
   ]
  },
  {
   "cell_type": "code",
   "execution_count": null,
   "id": "c89e62c3",
   "metadata": {},
   "outputs": [],
   "source": [
    "# 3. Exploration rapide\n",
    "print(X.info())\n",
    "print(X.describe())\n",
    "print(\"Répartition des classes :\")\n",
    "print(pd.Series(y).value_counts())"
   ]
  },
  {
   "cell_type": "code",
   "execution_count": null,
   "id": "d419eb0c",
   "metadata": {},
   "outputs": [],
   "source": [
    "# 4. Séparation train/test\n",
    "X_train, X_test, y_train, y_test = train_test_split(X, y, test_size=0.2, random_state=42, stratify=y)"
   ]
  },
  {
   "cell_type": "code",
   "execution_count": null,
   "id": "88ee155e",
   "metadata": {},
   "outputs": [],
   "source": [
    "# 5. Standardisation des features\n",
    "scaler = StandardScaler()\n",
    "X_train = scaler.fit_transform(X_train)\n",
    "X_test = scaler.transform(X_test)"
   ]
  },
  {
   "cell_type": "code",
   "execution_count": null,
   "id": "6f5afb6c",
   "metadata": {},
   "outputs": [],
   "source": [
    "# 6. Modélisation\n",
    "model = LogisticRegression(max_iter=1000)\n",
    "model.fit(X_train, y_train)"
   ]
  },
  {
   "cell_type": "code",
   "execution_count": null,
   "id": "5ec0c9da",
   "metadata": {},
   "outputs": [],
   "source": [
    "# 7. Prédiction\n",
    "y_pred = model.predict(X_test)"
   ]
  },
  {
   "cell_type": "code",
   "execution_count": null,
   "id": "cd7f76a1",
   "metadata": {},
   "outputs": [],
   "source": [
    "# 8. Évaluation\n",
    "print(\"Accuracy:\", accuracy_score(y_test, y_pred))\n",
    "print(\"Confusion Matrix:\\n\", confusion_matrix(y_test, y_pred))\n",
    "print(\"Classification Report:\\n\", classification_report(y_test, y_pred, target_names=iris.target_names))"
   ]
  },
  {
   "cell_type": "code",
   "execution_count": null,
   "id": "9826fc47",
   "metadata": {},
   "outputs": [],
   "source": [
    "# 9. Visualisation de la matrice de confusion\n",
    "cm = confusion_matrix(y_test, y_pred)\n",
    "plt.figure(figsize=(6,4))\n",
    "sns.heatmap(cm, annot=True, fmt='d', cmap='Blues', xticklabels=iris.target_names, yticklabels=iris.target_names)\n",
    "plt.xlabel('Prédictions')\n",
    "plt.ylabel('Vraies classes')\n",
    "plt.title('Matrice de confusion')\n",
    "plt.show()"
   ]
  },
  {
   "cell_type": "code",
   "execution_count": null,
   "id": "0a0e2351",
   "metadata": {},
   "outputs": [],
   "source": [
    "# 10. Interprétation\n",
    "# À compléter : analyser les erreurs, la performance globale, proposer des améliorations possibles."
   ]
  }
 ],
 "metadata": {
  "language_info": {
   "name": "python"
  }
 },
 "nbformat": 4,
 "nbformat_minor": 5
}
