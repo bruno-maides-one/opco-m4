{
 "cells": [
  {
   "cell_type": "markdown",
   "id": "0df9b14f",
   "metadata": {},
   "source": [
    "# Régression Boston Housing Dataset avec LinearRegression"
   ]
  },
  {
   "cell_type": "code",
   "execution_count": null,
   "id": "024ecea7",
   "metadata": {},
   "outputs": [],
   "source": [
    "# 1. Import des librairies\n",
    "import pandas as pd\n",
    "import numpy as np\n",
    "from sklearn.datasets import fetch_california_housing\n",
    "from sklearn.model_selection import train_test_split\n",
    "from sklearn.preprocessing import StandardScaler\n",
    "from sklearn.linear_model import LinearRegression\n",
    "from sklearn.metrics import mean_absolute_error, mean_squared_error, r2_score\n",
    "import matplotlib.pyplot as plt\n",
    "import seaborn as sns"
   ]
  },
  {
   "cell_type": "code",
   "execution_count": null,
   "id": "41474512",
   "metadata": {},
   "outputs": [],
   "source": [
    "# 2. Chargement du dataset California Housing (remplace Boston)\n",
    "data = fetch_california_housing(as_frame=True)\n",
    "X = data.data\n",
    "y = data.target  # Prix médian (en centaines de milliers de dollars)\n",
    "\n",
    "print(\"Premières lignes du dataset :\")\n",
    "print(X.head())\n",
    "print(\"Description du dataset :\")\n",
    "print(data.DESCR)"
   ]
  },
  {
   "cell_type": "code",
   "execution_count": null,
   "id": "5f2cd95d",
   "metadata": {},
   "outputs": [],
   "source": [
    "# 3. Exploration rapide\n",
    "print(X.info())\n",
    "print(X.describe())\n",
    "plt.hist(y, bins=30)\n",
    "plt.title(\"Distribution des prix (cible)\")\n",
    "plt.xlabel(\"Prix (centaines de milliers $)\")\n",
    "plt.show()"
   ]
  },
  {
   "cell_type": "code",
   "execution_count": null,
   "id": "ac7653ea",
   "metadata": {},
   "outputs": [],
   "source": [
    "# 4. Séparation train/test\n",
    "X_train, X_test, y_train, y_test = train_test_split(X, y, test_size=0.2, random_state=42)"
   ]
  },
  {
   "cell_type": "code",
   "execution_count": null,
   "id": "953be41c",
   "metadata": {},
   "outputs": [],
   "source": [
    "# 5. Standardisation des features\n",
    "scaler = StandardScaler()\n",
    "X_train = scaler.fit_transform(X_train)\n",
    "X_test = scaler.transform(X_test)"
   ]
  },
  {
   "cell_type": "code",
   "execution_count": null,
   "id": "0cb86391",
   "metadata": {},
   "outputs": [],
   "source": [
    "# 6. Modélisation\n",
    "model = LinearRegression()\n",
    "model.fit(X_train, y_train)"
   ]
  },
  {
   "cell_type": "code",
   "execution_count": null,
   "id": "025cd10e",
   "metadata": {},
   "outputs": [],
   "source": [
    "# 7. Prédiction\n",
    "y_pred = model.predict(X_test)"
   ]
  },
  {
   "cell_type": "code",
   "execution_count": null,
   "id": "16fa37dc",
   "metadata": {},
   "outputs": [],
   "source": [
    "# 8. Évaluation\n",
    "print(\"MAE :\", mean_absolute_error(y_test, y_pred))\n",
    "print(\"MSE :\", mean_squared_error(y_test, y_pred))\n",
    "print(\"RMSE :\", np.sqrt(mean_squared_error(y_test, y_pred)))\n",
    "print(\"R² score :\", r2_score(y_test, y_pred))"
   ]
  },
  {
   "cell_type": "code",
   "execution_count": null,
   "id": "b387e73f",
   "metadata": {},
   "outputs": [],
   "source": [
    "# 9. Visualisation des résultats\n",
    "plt.figure(figsize=(7, 5))\n",
    "plt.scatter(y_test, y_pred, alpha=0.6)\n",
    "plt.xlabel(\"Valeurs réelles\")\n",
    "plt.ylabel(\"Prédictions\")\n",
    "plt.title(\"Valeurs réelles vs Prédictions\")\n",
    "plt.plot([y_test.min(), y_test.max()], [y_test.min(), y_test.max()], \"r--\")\n",
    "plt.show()"
   ]
  },
  {
   "cell_type": "code",
   "execution_count": null,
   "id": "ac4a24d8",
   "metadata": {},
   "outputs": [],
   "source": [
    "# 10. Analyse des résidus\n",
    "residus = y_test - y_pred\n",
    "plt.figure(figsize=(7, 4))\n",
    "sns.histplot(residus, bins=30, kde=True)\n",
    "plt.title(\"Distribution des résidus (erreurs)\")\n",
    "plt.xlabel(\"Résidu\")\n",
    "plt.show()"
   ]
  },
  {
   "cell_type": "code",
   "execution_count": null,
   "id": "1c566fd0",
   "metadata": {},
   "outputs": [],
   "source": [
    "# 11. Interprétation\n",
    "# À compléter :\n",
    "# - Les erreurs sont-elles bien centrées autour de zéro ?\n",
    "# - Existe-t-il des tendances dans les résidus ?\n",
    "# - Quelle est la qualité du modèle (R², RMSE) ?\n",
    "# - Que pourrait-on améliorer ? (feature engineering, modèles non-linéaires...)"
   ]
  }
 ],
 "metadata": {
  "language_info": {
   "name": "python"
  }
 },
 "nbformat": 4,
 "nbformat_minor": 5
}
