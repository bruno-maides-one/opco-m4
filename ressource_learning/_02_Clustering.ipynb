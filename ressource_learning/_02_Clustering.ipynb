{
 "cells": [
  {
   "cell_type": "markdown",
   "id": "dee99ee6",
   "metadata": {},
   "source": [
    "# Clustering avec K-means et DBSCAN sur Iris"
   ]
  },
  {
   "cell_type": "code",
   "execution_count": null,
   "id": "16631e2b",
   "metadata": {},
   "outputs": [],
   "source": [
    "# 1. Import des librairies\n",
    "import pandas as pd\n",
    "import numpy as np\n",
    "import matplotlib.pyplot as plt\n",
    "import seaborn as sns\n",
    "from sklearn.datasets import load_iris\n",
    "from sklearn.preprocessing import StandardScaler\n",
    "from sklearn.decomposition import PCA\n",
    "from sklearn.cluster import KMeans, DBSCAN"
   ]
  },
  {
   "cell_type": "code",
   "execution_count": null,
   "id": "f762486d",
   "metadata": {},
   "outputs": [],
   "source": [
    "# 2. Chargement du dataset Iris\n",
    "iris = load_iris()\n",
    "X = iris.data\n",
    "y = iris.target\n",
    "feature_names = iris.feature_names\n",
    "target_names = iris.target_names\n",
    "\n",
    "df = pd.DataFrame(X, columns=feature_names)\n",
    "df['target'] = y\n",
    "\n",
    "print(df.head())"
   ]
  },
  {
   "cell_type": "code",
   "execution_count": null,
   "id": "88915fc3",
   "metadata": {},
   "outputs": [],
   "source": [
    "# 3. Standardisation des données (important pour le clustering)\n",
    "scaler = StandardScaler()\n",
    "X_scaled = scaler.fit_transform(X)"
   ]
  },
  {
   "cell_type": "code",
   "execution_count": null,
   "id": "468b40df",
   "metadata": {},
   "outputs": [],
   "source": [
    "# 4. Réduction de dimension pour visualisation (PCA -> 2D)\n",
    "pca = PCA(n_components=2)\n",
    "X_pca = pca.fit_transform(X_scaled)\n",
    "df['PC1'] = X_pca[:,0]\n",
    "df['PC2'] = X_pca[:,1]"
   ]
  },
  {
   "cell_type": "code",
   "execution_count": null,
   "id": "7a6e03c5",
   "metadata": {},
   "outputs": [],
   "source": [
    "# 5. Visualisation des vraies classes (pour repère)\n",
    "plt.figure(figsize=(7,5))\n",
    "sns.scatterplot(x='PC1', y='PC2', hue='target', palette='deep', data=df)\n",
    "plt.title('Projection PCA des vraies classes')\n",
    "plt.legend(title='Espèce')\n",
    "plt.show()"
   ]
  },
  {
   "cell_type": "code",
   "execution_count": null,
   "id": "cebe05a1",
   "metadata": {},
   "outputs": [],
   "source": [
    "# 6. Clustering K-means\n",
    "kmeans = KMeans(n_clusters=3, random_state=42)\n",
    "labels_kmeans = kmeans.fit_predict(X_scaled)\n",
    "df['kmeans'] = labels_kmeans\n",
    "\n",
    "plt.figure(figsize=(7,5))\n",
    "sns.scatterplot(x='PC1', y='PC2', hue='kmeans', palette='Set1', data=df)\n",
    "plt.title('Clustering K-means (PCA)')\n",
    "plt.legend(title='Cluster')\n",
    "plt.show()"
   ]
  },
  {
   "cell_type": "code",
   "execution_count": null,
   "id": "56be662f",
   "metadata": {},
   "outputs": [],
   "source": [
    "# 7. Clustering DBSCAN\n",
    "dbscan = DBSCAN(eps=0.6, min_samples=4)\n",
    "labels_dbscan = dbscan.fit_predict(X_scaled)\n",
    "df['dbscan'] = labels_dbscan\n",
    "\n",
    "plt.figure(figsize=(7,5))\n",
    "sns.scatterplot(x='PC1', y='PC2', hue='dbscan', palette='Set2', data=df)\n",
    "plt.title('Clustering DBSCAN (PCA)')\n",
    "plt.legend(title='Cluster (DBSCAN)')\n",
    "plt.show()"
   ]
  },
  {
   "cell_type": "code",
   "execution_count": null,
   "id": "235b2c0d",
   "metadata": {},
   "outputs": [],
   "source": [
    "# 8. Analyse rapide des résultats\n",
    "print(\"Nombre de clusters trouvés par K-means :\", len(np.unique(labels_kmeans)))\n",
    "print(\"Nombre de clusters trouvés par DBSCAN :\", len(set(labels_dbscan)) - (1 if -1 in labels_dbscan else 0))\n",
    "print(\"Nombre d'outliers détectés par DBSCAN :\", np.sum(labels_dbscan == -1))"
   ]
  },
  {
   "cell_type": "code",
   "execution_count": null,
   "id": "03676994",
   "metadata": {},
   "outputs": [],
   "source": [
    "# 9. Comparaison clusters vs vraies classes\n",
    "ct_kmeans = pd.crosstab(df['kmeans'], df['target'], rownames=['Cluster K-means'], colnames=['Classe réelle'])\n",
    "print(\"\\nCorrespondance K-means / vraies classes :\\n\", ct_kmeans)\n",
    "\n",
    "ct_dbscan = pd.crosstab(df['dbscan'], df['target'], rownames=['Cluster DBSCAN'], colnames=['Classe réelle'])\n",
    "print(\"\\nCorrespondance DBSCAN / vraies classes :\\n\", ct_dbscan)"
   ]
  },
  {
   "cell_type": "code",
   "execution_count": null,
   "id": "535762b1",
   "metadata": {},
   "outputs": [],
   "source": [
    "# 10. Pour aller plus loin :\n",
    "# - Tester d'autres valeurs de eps/min_samples pour DBSCAN\n",
    "# - Essayer une autre réduction de dimension (t-SNE, UMAP)\n",
    "# - Appliquer sur d'autres jeux de données (wine, digits...)"
   ]
  }
 ],
 "metadata": {
  "language_info": {
   "name": "python"
  }
 },
 "nbformat": 4,
 "nbformat_minor": 5
}
