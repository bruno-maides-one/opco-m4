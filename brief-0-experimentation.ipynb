{
 "cells": [
  {
   "metadata": {},
   "cell_type": "markdown",
   "source": [
    "# Exemple d'utilisation d'un transfcormer dans le cadre de la génération de code.\n",
    "\n",
    "On utilise au chois les modeles\n",
    "\n",
    "* codegen-350M-mono\n",
    "* codegen-2B-mono\n",
    "*"
   ],
   "id": "221643bb67bb1c5f"
  },
  {
   "metadata": {
    "ExecuteTime": {
     "end_time": "2025-07-29T09:56:14.158426Z",
     "start_time": "2025-07-29T09:56:14.156207Z"
    }
   },
   "cell_type": "code",
   "source": "model_name = \"Salesforce/codegen-350M-mono\"",
   "id": "e0d7ac62e8466100",
   "outputs": [],
   "execution_count": 92
  },
  {
   "metadata": {
    "ExecuteTime": {
     "end_time": "2025-07-29T09:56:14.167685Z",
     "start_time": "2025-07-29T09:56:14.165291Z"
    }
   },
   "cell_type": "code",
   "source": [
    "# Parametres du model\n",
    "\n",
    "max_length=200,  # Adjust as needed\n",
    "num_beams=5,      # Adjust for quality/speed trade-off\n",
    "temperature=0.7,  # Adjust for creativity (higher = more creative)\n",
    "top_k=40,         # Adjust for sampling\n",
    "top_p=0.95,        # Adjust for sampling\n",
    "pad_token_id=tokenizer.eos_token_id # Important for some models"
   ],
   "id": "f5e531cd898ec3a4",
   "outputs": [],
   "execution_count": 93
  },
  {
   "metadata": {},
   "cell_type": "markdown",
   "source": [
    "# Observations\n",
    "\n",
    "* En promptant sur un debut de code le model est capable de prédire du code correcte sur des soucis simple mais pas parfait\n",
    "* En utilisant le model il semble y avoir conservation du context\n",
    "    * Pour vérifier réinitialisé l'appel entre chaque"
   ],
   "id": "777256518e6c8f42"
  },
  {
   "metadata": {},
   "cell_type": "markdown",
   "source": "## Initialisation du model",
   "id": "f6a5e148407fe210"
  },
  {
   "metadata": {
    "ExecuteTime": {
     "end_time": "2025-07-29T09:56:16.991731Z",
     "start_time": "2025-07-29T09:56:14.228028Z"
    }
   },
   "cell_type": "code",
   "source": [
    "from transformers import AutoTokenizer, AutoModelForCausalLM\n",
    "tokenizer = AutoTokenizer.from_pretrained(model_name)\n",
    "model = AutoModelForCausalLM.from_pretrained(model_name)"
   ],
   "id": "cb713a8b98b6a819",
   "outputs": [
    {
     "name": "stderr",
     "output_type": "stream",
     "text": [
      "Some weights of the model checkpoint at Salesforce/codegen-350M-mono were not used when initializing CodeGenForCausalLM: ['transformer.h.0.attn.causal_mask', 'transformer.h.1.attn.causal_mask', 'transformer.h.10.attn.causal_mask', 'transformer.h.11.attn.causal_mask', 'transformer.h.12.attn.causal_mask', 'transformer.h.13.attn.causal_mask', 'transformer.h.14.attn.causal_mask', 'transformer.h.15.attn.causal_mask', 'transformer.h.16.attn.causal_mask', 'transformer.h.17.attn.causal_mask', 'transformer.h.18.attn.causal_mask', 'transformer.h.19.attn.causal_mask', 'transformer.h.2.attn.causal_mask', 'transformer.h.3.attn.causal_mask', 'transformer.h.4.attn.causal_mask', 'transformer.h.5.attn.causal_mask', 'transformer.h.6.attn.causal_mask', 'transformer.h.7.attn.causal_mask', 'transformer.h.8.attn.causal_mask', 'transformer.h.9.attn.causal_mask']\n",
      "- This IS expected if you are initializing CodeGenForCausalLM from the checkpoint of a model trained on another task or with another architecture (e.g. initializing a BertForSequenceClassification model from a BertForPreTraining model).\n",
      "- This IS NOT expected if you are initializing CodeGenForCausalLM from the checkpoint of a model that you expect to be exactly identical (initializing a BertForSequenceClassification model from a BertForSequenceClassification model).\n"
     ]
    }
   ],
   "execution_count": 94
  },
  {
   "metadata": {
    "ExecuteTime": {
     "end_time": "2025-07-29T09:56:17.011082Z",
     "start_time": "2025-07-29T09:56:17.008277Z"
    }
   },
   "cell_type": "code",
   "source": [
    "def do_predict(model,\n",
    "               prompt: str,\n",
    "               max_length: int = 200,\n",
    "               temperature: float = 0.7,\n",
    "               top_k: int = 40,\n",
    "               top_p: float = 0.9,\n",
    "               pad_token_id: int = tokenizer.eos_token_id):\n",
    "    print(f\"Prompte : {prompt}\\n----\")\n",
    "    input_ids = tokenizer(prompt, return_tensors=\"pt\").input_ids\n",
    "    print(f\"Input ids : {input_ids}\")\n",
    "    print(\"---\")\n",
    "    generated_ids = model.generate(input_ids,\n",
    "                                   max_length=max_length,\n",
    "                                   temperature=temperature,\n",
    "                                   top_k=top_k,\n",
    "                                   top_p=top_p,\n",
    "                                   pad_token_id=pad_token_id,\n",
    "                                   do_sample=True)\n",
    "    print(\"----\")\n",
    "    print(generated_ids[0])\n",
    "    print(\"----\")\n",
    "    return tokenizer.decode(generated_ids[0], skip_special_tokens=True)\n"
   ],
   "id": "d47a6779768f2283",
   "outputs": [],
   "execution_count": 95
  },
  {
   "metadata": {},
   "cell_type": "markdown",
   "source": [
    "## Utilisation pour faire de la completion de code\n",
    "\n",
    "On fournis un fragment de code et on demande au modele de compléter."
   ],
   "id": "40a2c835d1b61720"
  },
  {
   "metadata": {
    "ExecuteTime": {
     "end_time": "2025-07-29T09:56:17.069212Z",
     "start_time": "2025-07-29T09:56:17.067838Z"
    }
   },
   "cell_type": "code",
   "source": "",
   "id": "59a259e1b78b05ee",
   "outputs": [],
   "execution_count": null
  },
  {
   "cell_type": "code",
   "id": "initial_id",
   "metadata": {
    "collapsed": true,
    "ExecuteTime": {
     "end_time": "2025-07-29T09:56:26.847742Z",
     "start_time": "2025-07-29T09:56:17.135346Z"
    }
   },
   "source": [
    "text = \"\"\"\n",
    "a = 1\n",
    "b = 2\n",
    "if a > b:\n",
    "    print(f\"{a} est supérieur à {b}\"\n",
    "else:\n",
    "\"\"\"\n",
    "\n",
    "print(do_predict(model, text))\n"
   ],
   "outputs": [
    {
     "name": "stdout",
     "output_type": "stream",
     "text": [
      "Prompte : \n",
      "a = 1\n",
      "b = 2\n",
      "if a > b:\n",
      "    print(f\"{a} est supérieur à {b}\"\n",
      "else:\n",
      "\n",
      "----\n",
      "Input ids : tensor([[  198,    64,   796,   352,   198,    65,   796,   362,   198,   361,\n",
      "           257,  1875,   275,    25,   198, 50284,  4798,     7,    69,     1,\n",
      "            90,    64,    92,  1556,  7418,  2634,  5034,   333, 28141,  1391,\n",
      "            65, 36786,   198, 17772,    25,   198]])\n",
      "---\n",
      "----\n",
      "tensor([  198,    64,   796,   352,   198,    65,   796,   362,   198,   361,\n",
      "          257,  1875,   275,    25,   198, 50284,  4798,     7,    69,     1,\n",
      "           90,    64,    92,  1556,  7418,  2634,  5034,   333, 28141,  1391,\n",
      "           65, 36786,   198, 17772,    25,   198, 50284,  4798,     7,    69,\n",
      "            1,    90,    64,    92,  1556, 13249,   494,   333, 28141,  1391,\n",
      "           65, 36786,   198,     8,   198,   198,     2,   406,     6,  1069,\n",
      "         2798,   501,   198,     2,   257,   796,  5128,  7203, 14539, 21107,\n",
      "         1993,   260,   442,   733,   260,    25,   366,     8,   198,     2,\n",
      "          275,   796,  5128,  7203, 14539, 21107,  1993,   260,   442,   733,\n",
      "          260,    25,   366,     8,   198,     2,   611,   257,  1875,   275,\n",
      "           25,   198,     2, 50283,  4798,     7,    69,     1,  3123,   442,\n",
      "          733,   260,  1391,    64,    92,  1556,  7418,  2634,  5034,   333,\n",
      "        28141,  1391,    65,    92,  4943,   198,     2,  1288,   361,   257,\n",
      "         1279,   275,    25,   198,     2, 50283,  4798,     7,    69,     1,\n",
      "         3123,   442,   733,   260,  1391,    64,    92,  1556, 13249,   494,\n",
      "          333, 28141,  1391,    65,    92,  4943,   198,     2,  2073,    25,\n",
      "          198,     2, 50283,  4798,     7,    69,     1,  3123,   442,   733,\n",
      "          260,  1391,    64,    92,  1556, 38251, 13528,   972, 38251,    70,\n",
      "         1000, 28141,  1391,    65,    92,  4943,   198,   198,     2,  1303,\n",
      "         1475,  2798,   501,   198,     2,   257,   796,   493,     7, 15414])\n",
      "----\n",
      "\n",
      "a = 1\n",
      "b = 2\n",
      "if a > b:\n",
      "    print(f\"{a} est supérieur à {b}\"\n",
      "else:\n",
      "    print(f\"{a} est inferieur à {b}\"\n",
      ")\n",
      "\n",
      "# L'exercice\n",
      "# a = input(\"Entrez votre chiffre: \")\n",
      "# b = input(\"Entrez votre chiffre: \")\n",
      "# if a > b:\n",
      "#     print(f\"Le chiffre {a} est supérieur à {b}\")\n",
      "# elif a < b:\n",
      "#     print(f\"Le chiffre {a} est inferieur à {b}\")\n",
      "# else:\n",
      "#     print(f\"Le chiffre {a} est également égale à {b}\")\n",
      "\n",
      "# # Exercice\n",
      "# a = int(input\n"
     ]
    }
   ],
   "execution_count": 96
  },
  {
   "metadata": {
    "ExecuteTime": {
     "end_time": "2025-07-29T09:56:28.518427Z",
     "start_time": "2025-07-29T09:56:26.907078Z"
    }
   },
   "cell_type": "code",
   "source": "print(do_predict(model, text, temperature=1))",
   "id": "adc34b199a9402e5",
   "outputs": [
    {
     "name": "stdout",
     "output_type": "stream",
     "text": [
      "Prompte : \n",
      "a = 1\n",
      "b = 2\n",
      "if a > b:\n",
      "    print(f\"{a} est supérieur à {b}\"\n",
      "else:\n",
      "\n",
      "----\n",
      "Input ids : tensor([[  198,    64,   796,   352,   198,    65,   796,   362,   198,   361,\n",
      "           257,  1875,   275,    25,   198, 50284,  4798,     7,    69,     1,\n",
      "            90,    64,    92,  1556,  7418,  2634,  5034,   333, 28141,  1391,\n",
      "            65, 36786,   198, 17772,    25,   198]])\n",
      "---\n",
      "----\n",
      "tensor([  198,    64,   796,   352,   198,    65,   796,   362,   198,   361,\n",
      "          257,  1875,   275,    25,   198, 50284,  4798,     7,    69,     1,\n",
      "           90,    64,    92,  1556,  7418,  2634,  5034,   333, 28141,  1391,\n",
      "           65, 36786,   198, 17772,    25,   198, 50284,  4798,     7,    69,\n",
      "            1,    90,    65,    92,  1556,  7418,  2634,  5034,   333, 28141,\n",
      "         1391,    64,    92,  4943,   198,  4798,  7203, 18467,  4943,   628,\n",
      "        50256])\n",
      "----\n",
      "\n",
      "a = 1\n",
      "b = 2\n",
      "if a > b:\n",
      "    print(f\"{a} est supérieur à {b}\"\n",
      "else:\n",
      "    print(f\"{b} est supérieur à {a}\")\n",
      "print(\"Fin\")\n",
      "\n",
      "\n"
     ]
    }
   ],
   "execution_count": 97
  },
  {
   "metadata": {
    "ExecuteTime": {
     "end_time": "2025-07-29T09:56:38.957897Z",
     "start_time": "2025-07-29T09:56:28.534483Z"
    }
   },
   "cell_type": "code",
   "source": "print(do_predict(model, text, temperature=0.01))",
   "id": "dcc75ca4f08abd67",
   "outputs": [
    {
     "name": "stdout",
     "output_type": "stream",
     "text": [
      "Prompte : \n",
      "a = 1\n",
      "b = 2\n",
      "if a > b:\n",
      "    print(f\"{a} est supérieur à {b}\"\n",
      "else:\n",
      "\n",
      "----\n",
      "Input ids : tensor([[  198,    64,   796,   352,   198,    65,   796,   362,   198,   361,\n",
      "           257,  1875,   275,    25,   198, 50284,  4798,     7,    69,     1,\n",
      "            90,    64,    92,  1556,  7418,  2634,  5034,   333, 28141,  1391,\n",
      "            65, 36786,   198, 17772,    25,   198]])\n",
      "---\n",
      "----\n",
      "tensor([  198,    64,   796,   352,   198,    65,   796,   362,   198,   361,\n",
      "          257,  1875,   275,    25,   198, 50284,  4798,     7,    69,     1,\n",
      "           90,    64,    92,  1556,  7418,  2634,  5034,   333, 28141,  1391,\n",
      "           65, 36786,   198, 17772,    25,   198, 50284,  4798,     7,    69,\n",
      "            1,    90,    65,    92,  1556,  7418,  2634,  5034,   333, 28141,\n",
      "         1391,    64,    92,  4943,   198,   198,     2,  1475,  2798,   501,\n",
      "          198,   198,     2,   352,    13,   198,     2,  1550,  3512,    68,\n",
      "        28141,   300,     6, 22602,   271, 15093,   390,   473,   271,   343,\n",
      "          555,   299,  2381,   260,   920,   959,    13,   198,     2,  1550,\n",
      "         1527, 14234,   443,   299,  2381,   260,   920,   959,   473, 23267,\n",
      "           13,   198,     2,  1550,  3512,    68, 28141,   300,     6, 22602,\n",
      "          271, 15093,   390,   473,   271,   343,   555,   299,  2381,   260,\n",
      "          920,   959,    13,   198,     2,  1550,  1527, 14234,   443,   299,\n",
      "         2381,   260,   920,   959,   473, 23267,    13,   198,     2,  1550,\n",
      "         3512,    68, 28141,   300,     6, 22602,   271, 15093,   390,   473,\n",
      "          271,   343,   555,   299,  2381,   260,   920,   959,    13,   198,\n",
      "            2,  1550,  1527, 14234,   443,   299,  2381,   260,   920,   959,\n",
      "          473, 23267,    13,   198,     2,  1550,  3512,    68, 28141,   300,\n",
      "            6, 22602,   271, 15093,   390,   473,   271,   343,   555,   299,\n",
      "         2381,   260,   920,   959,    13,   198,     2,  1550,  1527, 14234])\n",
      "----\n",
      "\n",
      "a = 1\n",
      "b = 2\n",
      "if a > b:\n",
      "    print(f\"{a} est supérieur à {b}\"\n",
      "else:\n",
      "    print(f\"{b} est supérieur à {a}\")\n",
      "\n",
      "# Exercice\n",
      "\n",
      "# 1.\n",
      "# On demande à l'utilisateur de saisir un nombre entier.\n",
      "# On affiche le nombre entier saisi.\n",
      "# On demande à l'utilisateur de saisir un nombre entier.\n",
      "# On affiche le nombre entier saisi.\n",
      "# On demande à l'utilisateur de saisir un nombre entier.\n",
      "# On affiche le nombre entier saisi.\n",
      "# On demande à l'utilisateur de saisir un nombre entier.\n",
      "# On affiche\n"
     ]
    }
   ],
   "execution_count": 98
  },
  {
   "metadata": {
    "ExecuteTime": {
     "end_time": "2025-07-29T10:10:30.989261Z",
     "start_time": "2025-07-29T10:09:20.071106Z"
    }
   },
   "cell_type": "code",
   "source": "print(do_predict(model, text, temperature=0.01, max_length=1024))",
   "id": "59174e8596193e39",
   "outputs": [
    {
     "name": "stdout",
     "output_type": "stream",
     "text": [
      "Prompte : \n",
      "a = 1\n",
      "b = 2\n",
      "if a > b:\n",
      "    print(f\"{a} est supérieur à {b}\"\n",
      "else:\n",
      "\n",
      "----\n",
      "Input ids : tensor([[  198,    64,   796,   352,   198,    65,   796,   362,   198,   361,\n",
      "           257,  1875,   275,    25,   198, 50284,  4798,     7,    69,     1,\n",
      "            90,    64,    92,  1556,  7418,  2634,  5034,   333, 28141,  1391,\n",
      "            65, 36786,   198, 17772,    25,   198]])\n",
      "---\n",
      "----\n",
      "tensor([198,  64, 796,  ..., 959,  13, 198])\n",
      "----\n",
      "\n",
      "a = 1\n",
      "b = 2\n",
      "if a > b:\n",
      "    print(f\"{a} est supérieur à {b}\"\n",
      "else:\n",
      "    print(f\"{b} est supérieur à {a}\")\n",
      "\n",
      "# Exercice\n",
      "\n",
      "# 1.\n",
      "# On demande à l'utilisateur de saisir un nombre entier.\n",
      "# On affiche le nombre entier saisi.\n",
      "# On demande à l'utilisateur de saisir un nombre entier.\n",
      "# On affiche le nombre entier saisi.\n",
      "# On demande à l'utilisateur de saisir un nombre entier.\n",
      "# On affiche le nombre entier saisi.\n",
      "# On demande à l'utilisateur de saisir un nombre entier.\n",
      "# On affiche le nombre entier saisi.\n",
      "# On demande à l'utilisateur de saisir un nombre entier.\n",
      "# On affiche le nombre entier saisi.\n",
      "# On demande à l'utilisateur de saisir un nombre entier.\n",
      "# On affiche le nombre entier saisi.\n",
      "# On demande à l'utilisateur de saisir un nombre entier.\n",
      "# On affiche le nombre entier saisi.\n",
      "# On demande à l'utilisateur de saisir un nombre entier.\n",
      "# On affiche le nombre entier saisi.\n",
      "# On demande à l'utilisateur de saisir un nombre entier.\n",
      "# On affiche le nombre entier saisi.\n",
      "# On demande à l'utilisateur de saisir un nombre entier.\n",
      "# On affiche le nombre entier saisi.\n",
      "# On demande à l'utilisateur de saisir un nombre entier.\n",
      "# On affiche le nombre entier saisi.\n",
      "# On demande à l'utilisateur de saisir un nombre entier.\n",
      "# On affiche le nombre entier saisi.\n",
      "# On demande à l'utilisateur de saisir un nombre entier.\n",
      "# On affiche le nombre entier saisi.\n",
      "# On demande à l'utilisateur de saisir un nombre entier.\n",
      "# On affiche le nombre entier saisi.\n",
      "# On demande à l'utilisateur de saisir un nombre entier.\n",
      "# On affiche le nombre entier saisi.\n",
      "# On demande à l'utilisateur de saisir un nombre entier.\n",
      "# On affiche le nombre entier saisi.\n",
      "# On demande à l'utilisateur de saisir un nombre entier.\n",
      "# On affiche le nombre entier saisi.\n",
      "# On demande à l'utilisateur de saisir un nombre entier.\n",
      "# On affiche le nombre entier saisi.\n",
      "# On demande à l'utilisateur de saisir un nombre entier.\n",
      "# On affiche le nombre entier saisi.\n",
      "# On demande à l'utilisateur de saisir un nombre entier.\n",
      "# On affiche le nombre entier saisi.\n",
      "# On demande à l'utilisateur de saisir un nombre entier.\n",
      "# On affiche le nombre entier saisi.\n",
      "# On demande à l'utilisateur de saisir un nombre entier.\n",
      "# On affiche le nombre entier saisi.\n",
      "# On demande à l'utilisateur de saisir un nombre entier.\n",
      "# On affiche le nombre entier saisi.\n",
      "# On demande à l'utilisateur de saisir un nombre entier.\n",
      "# On affiche le nombre entier saisi.\n",
      "# On demande à l'utilisateur de saisir un nombre entier.\n",
      "# On affiche le nombre entier saisi.\n",
      "# On demande à l'utilisateur de saisir un nombre entier.\n",
      "# On affiche le nombre entier saisi.\n",
      "# On demande à l'utilisateur de saisir un nombre entier.\n",
      "\n"
     ]
    }
   ],
   "execution_count": 102
  },
  {
   "metadata": {
    "ExecuteTime": {
     "end_time": "2025-07-29T09:57:39.667387Z",
     "start_time": "2025-07-29T09:57:32.445958Z"
    }
   },
   "cell_type": "code",
   "source": [
    "model = AutoModelForCausalLM.from_pretrained(model_name)\n",
    "print(do_predict(model, \"\"\"\n",
    "generete une fonction pour calculer la somme des 5 premiers chiffres\n",
    "\"\"\"))"
   ],
   "id": "ed3bcf99fe528cdd",
   "outputs": [
    {
     "name": "stderr",
     "output_type": "stream",
     "text": [
      "Some weights of the model checkpoint at Salesforce/codegen-350M-mono were not used when initializing CodeGenForCausalLM: ['transformer.h.0.attn.causal_mask', 'transformer.h.1.attn.causal_mask', 'transformer.h.10.attn.causal_mask', 'transformer.h.11.attn.causal_mask', 'transformer.h.12.attn.causal_mask', 'transformer.h.13.attn.causal_mask', 'transformer.h.14.attn.causal_mask', 'transformer.h.15.attn.causal_mask', 'transformer.h.16.attn.causal_mask', 'transformer.h.17.attn.causal_mask', 'transformer.h.18.attn.causal_mask', 'transformer.h.19.attn.causal_mask', 'transformer.h.2.attn.causal_mask', 'transformer.h.3.attn.causal_mask', 'transformer.h.4.attn.causal_mask', 'transformer.h.5.attn.causal_mask', 'transformer.h.6.attn.causal_mask', 'transformer.h.7.attn.causal_mask', 'transformer.h.8.attn.causal_mask', 'transformer.h.9.attn.causal_mask']\n",
      "- This IS expected if you are initializing CodeGenForCausalLM from the checkpoint of a model trained on another task or with another architecture (e.g. initializing a BertForSequenceClassification model from a BertForPreTraining model).\n",
      "- This IS NOT expected if you are initializing CodeGenForCausalLM from the checkpoint of a model that you expect to be exactly identical (initializing a BertForSequenceClassification model from a BertForSequenceClassification model).\n"
     ]
    },
    {
     "name": "stdout",
     "output_type": "stream",
     "text": [
      "Prompte : \n",
      "generete une fonction pour calculer la somme des 5 premiers chiffres\n",
      "\n",
      "----\n",
      "Input ids : tensor([[  198,  5235,   567,   660, 17809,   277,   261,   596, 12797,  5204,\n",
      "           263,  8591,  3870,  1326,   748,   642,  4199,  3183,   442,   733,\n",
      "           411,   198]])\n",
      "---\n",
      "----\n",
      "tensor([  198,  5235,   567,   660, 17809,   277,   261,   596, 12797,  5204,\n",
      "          263,  8591,  3870,  1326,   748,   642,  4199,  3183,   442,   733,\n",
      "          411,   198,    67,  2634,    69, 15003, 10287,   442,   733,   411,\n",
      "          551,   277,   261,   596,   390,  8591,  7297,  1582,   642,   198,\n",
      "        37811,   198,   198,  4299,  3870,  1326, 33529,   198, 50284,   198,\n",
      "        50284,    82,   296,  1326,   796,   657,   198, 50284,   198, 50284,\n",
      "         1640,  1312,   287,  2837,     7,    20,  2599,   198, 50280,    82,\n",
      "          296,  1326,   796,  3870,  1326,  1343,   493,     7, 15414,  7203,\n",
      "        14539, 21107,   443,   442,   733,   260,  1058,   366,  4008,   198,\n",
      "        50284,   198, 50284,  4798,     7,    82,   296,  1326,     8,   198,\n",
      "          198,    82,   296,  1326,  3419,   198, 50256])\n",
      "----\n",
      "\n",
      "generete une fonction pour calculer la somme des 5 premiers chiffres\n",
      "définit les chiffres en fonction de la division par 5\n",
      "\"\"\"\n",
      "\n",
      "def somme():\n",
      "    \n",
      "    somme = 0\n",
      "    \n",
      "    for i in range(5):\n",
      "        somme = somme + int(input(\"Entrez le chiffre : \"))\n",
      "    \n",
      "    print(somme)\n",
      "\n",
      "somme()\n",
      "\n"
     ]
    }
   ],
   "execution_count": 100
  },
  {
   "metadata": {},
   "cell_type": "markdown",
   "source": "## test du code",
   "id": "f579c5e8dbabfa33"
  },
  {
   "metadata": {},
   "cell_type": "markdown",
   "source": "1er run",
   "id": "b20c794dad5304cb"
  },
  {
   "metadata": {
    "ExecuteTime": {
     "end_time": "2025-07-29T09:56:39.091915251Z",
     "start_time": "2025-07-29T09:44:04.685085Z"
    }
   },
   "cell_type": "code",
   "source": [
    "def somme_chiffres(n):\n",
    "    \"\"\"\n",
    "    :param n: nombre de chiffres\n",
    "    :return: la somme des 5 premiers chiffres\n",
    "    \"\"\"\n",
    "    somme = 0\n",
    "    for i in range(n):\n",
    "        somme += i\n",
    "    return somme\n",
    "\n",
    "def main():\n",
    "    \"\"\"\n",
    "    :return: la somme des 5 premiers chiffres\n",
    "    \"\"\"\n",
    "    n = int(input(\"Entrer un nombre : \"))\n",
    "    print(somme_chiffres(n))\n",
    "\n",
    "if __name__ == \"__main__\":\n",
    "    main()"
   ],
   "id": "78551c9b97935e99",
   "outputs": [
    {
     "name": "stdout",
     "output_type": "stream",
     "text": [
      "1\n"
     ]
    }
   ],
   "execution_count": 59
  },
  {
   "metadata": {},
   "cell_type": "markdown",
   "source": "2eme run",
   "id": "9a77c5b6f579c14e"
  },
  {
   "metadata": {
    "ExecuteTime": {
     "end_time": "2025-07-29T10:02:20.502163Z",
     "start_time": "2025-07-29T10:02:07.948018Z"
    }
   },
   "cell_type": "code",
   "source": [
    "### j'ai ajouté le \"\"\" pour rendre le code valide\n",
    "\"\"\"\n",
    "generete une fonction pour calculer la somme des 5 premiers chiffres\n",
    "définit les chiffres en fonction de la division par 5\n",
    "\"\"\"\n",
    "\n",
    "def somme():\n",
    "\n",
    "    somme = 0\n",
    "\n",
    "    for i in range(5):\n",
    "        somme = somme + int(input(\"Entrez le chiffre : \"))\n",
    "\n",
    "    print(somme)\n",
    "\n",
    "somme()\n"
   ],
   "id": "7832785d34199054",
   "outputs": [
    {
     "name": "stdout",
     "output_type": "stream",
     "text": [
      "5\n"
     ]
    }
   ],
   "execution_count": 101
  }
 ],
 "metadata": {
  "kernelspec": {
   "display_name": "Python 3",
   "language": "python",
   "name": "python3"
  },
  "language_info": {
   "codemirror_mode": {
    "name": "ipython",
    "version": 2
   },
   "file_extension": ".py",
   "mimetype": "text/x-python",
   "name": "python",
   "nbconvert_exporter": "python",
   "pygments_lexer": "ipython2",
   "version": "2.7.6"
  }
 },
 "nbformat": 4,
 "nbformat_minor": 5
}
