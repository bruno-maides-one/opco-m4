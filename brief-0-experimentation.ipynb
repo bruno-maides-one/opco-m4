{
 "cells": [
  {
   "metadata": {},
   "cell_type": "markdown",
   "source": [
    "# Exemple d'utilisation d'un transfcormer dans le cadre de la génération de code.\n",
    "\n",
    "On utilise au chois les modeles\n",
    "\n",
    "* codegen-350M-mono\n",
    "* codegen-2B-mono\n",
    "*"
   ],
   "id": "221643bb67bb1c5f"
  },
  {
   "metadata": {
    "ExecuteTime": {
     "end_time": "2025-07-29T10:35:50.146919Z",
     "start_time": "2025-07-29T10:35:50.144879Z"
    }
   },
   "cell_type": "code",
   "source": "model_name = \"Salesforce/codegen-350M-mono\"",
   "id": "e0d7ac62e8466100",
   "outputs": [],
   "execution_count": 114
  },
  {
   "metadata": {
    "ExecuteTime": {
     "end_time": "2025-07-29T10:35:50.236023Z",
     "start_time": "2025-07-29T10:35:50.166242Z"
    }
   },
   "cell_type": "code",
   "source": [
    "# Parametres du model\n",
    "\n",
    "max_length=200,  # Adjust as needed\n",
    "num_beams=5,      # Adjust for quality/speed trade-off\n",
    "temperature=0.7,  # Adjust for creativity (higher = more creative)\n",
    "top_k=40,         # Adjust for sampling\n",
    "top_p=0.95,        # Adjust for sampling\n",
    "pad_token_id=tokenizer.eos_token_id # Important for some models"
   ],
   "id": "f5e531cd898ec3a4",
   "outputs": [],
   "execution_count": 115
  },
  {
   "metadata": {},
   "cell_type": "markdown",
   "source": [
    "# Observations\n",
    "\n",
    "* En promptant sur un debut de code le model est capable de prédire du code correcte sur des soucis simple mais pas parfait\n",
    "* En utilisant le model il semble y avoir conservation du context\n",
    "    * Pour vérifier réinitialisé l'appel entre chaque"
   ],
   "id": "777256518e6c8f42"
  },
  {
   "metadata": {},
   "cell_type": "markdown",
   "source": "## Initialisation du model",
   "id": "f6a5e148407fe210"
  },
  {
   "metadata": {
    "ExecuteTime": {
     "end_time": "2025-07-29T10:35:52.909948Z",
     "start_time": "2025-07-29T10:35:50.257248Z"
    }
   },
   "cell_type": "code",
   "source": [
    "import torch\n",
    "from transformers import AutoTokenizer, AutoModelForCausalLM\n",
    "\n",
    "# Création du tokenniser\n",
    "tokenizer = AutoTokenizer.from_pretrained(model_name)\n",
    "\n",
    "# Chargement du model\n",
    "model = AutoModelForCausalLM.from_pretrained(model_name)\n",
    "\n",
    "# Vérifie si le GPU est disponible avant de continuer\n",
    "if torch.cuda.is_available():\n",
    "    # Sélectionne spécifiquement le premier GPU (device 0)\n",
    "    device = torch.device(\"cuda:0\")\n",
    "    print(\"Utilisation du GPU :\", torch.cuda.get_device_name(0))\n",
    "else:\n",
    "    device = torch.device(\"cpu\")\n",
    "    print(\"GPU non trouvé, utilisation du CPU.\")\n",
    "\n",
    "# Déplace le modèle vers le GPU 0\n",
    "# ca plante !\n",
    "# model.to(device)\n"
   ],
   "id": "cb713a8b98b6a819",
   "outputs": [
    {
     "name": "stderr",
     "output_type": "stream",
     "text": [
      "Some weights of the model checkpoint at Salesforce/codegen-350M-mono were not used when initializing CodeGenForCausalLM: ['transformer.h.0.attn.causal_mask', 'transformer.h.1.attn.causal_mask', 'transformer.h.10.attn.causal_mask', 'transformer.h.11.attn.causal_mask', 'transformer.h.12.attn.causal_mask', 'transformer.h.13.attn.causal_mask', 'transformer.h.14.attn.causal_mask', 'transformer.h.15.attn.causal_mask', 'transformer.h.16.attn.causal_mask', 'transformer.h.17.attn.causal_mask', 'transformer.h.18.attn.causal_mask', 'transformer.h.19.attn.causal_mask', 'transformer.h.2.attn.causal_mask', 'transformer.h.3.attn.causal_mask', 'transformer.h.4.attn.causal_mask', 'transformer.h.5.attn.causal_mask', 'transformer.h.6.attn.causal_mask', 'transformer.h.7.attn.causal_mask', 'transformer.h.8.attn.causal_mask', 'transformer.h.9.attn.causal_mask']\n",
      "- This IS expected if you are initializing CodeGenForCausalLM from the checkpoint of a model trained on another task or with another architecture (e.g. initializing a BertForSequenceClassification model from a BertForPreTraining model).\n",
      "- This IS NOT expected if you are initializing CodeGenForCausalLM from the checkpoint of a model that you expect to be exactly identical (initializing a BertForSequenceClassification model from a BertForSequenceClassification model).\n"
     ]
    },
    {
     "name": "stdout",
     "output_type": "stream",
     "text": [
      "Utilisation du GPU : NVIDIA GeForce RTX 3070 Laptop GPU\n"
     ]
    }
   ],
   "execution_count": 116
  },
  {
   "metadata": {
    "ExecuteTime": {
     "end_time": "2025-07-29T10:35:52.930275Z",
     "start_time": "2025-07-29T10:35:52.927263Z"
    }
   },
   "cell_type": "code",
   "source": [
    "def do_predict(model,\n",
    "               prompt: str,\n",
    "               max_length: int = 200,\n",
    "               temperature: float = 0.7,\n",
    "               top_k: int = 40,\n",
    "               top_p: float = 0.9,\n",
    "               pad_token_id: int = tokenizer.eos_token_id):\n",
    "    print(f\"Prompte : {prompt}\\n----\")\n",
    "    input_ids = tokenizer(prompt, return_tensors=\"pt\").input_ids\n",
    "    print(f\"Input ids : {input_ids}\")\n",
    "    print(\"---\")\n",
    "    generated_ids = model.generate(input_ids,\n",
    "                                   max_length=max_length,\n",
    "                                   temperature=temperature,\n",
    "                                   top_k=top_k,\n",
    "                                   top_p=top_p,\n",
    "                                   pad_token_id=pad_token_id,\n",
    "                                   do_sample=True)\n",
    "    print(\"----\")\n",
    "    print(generated_ids[0])\n",
    "    print(\"----\")\n",
    "    return tokenizer.decode(generated_ids[0], skip_special_tokens=True)\n"
   ],
   "id": "d47a6779768f2283",
   "outputs": [],
   "execution_count": 117
  },
  {
   "metadata": {},
   "cell_type": "markdown",
   "source": [
    "## Utilisation pour faire de la completion de code\n",
    "\n",
    "On fournis un fragment de code et on demande au modele de compléter."
   ],
   "id": "40a2c835d1b61720"
  },
  {
   "metadata": {
    "ExecuteTime": {
     "end_time": "2025-07-29T10:35:52.987951Z",
     "start_time": "2025-07-29T10:35:52.986675Z"
    }
   },
   "cell_type": "code",
   "source": "",
   "id": "59a259e1b78b05ee",
   "outputs": [],
   "execution_count": null
  },
  {
   "cell_type": "code",
   "id": "initial_id",
   "metadata": {
    "collapsed": true,
    "ExecuteTime": {
     "end_time": "2025-07-29T10:36:00.574044Z",
     "start_time": "2025-07-29T10:35:53.045569Z"
    }
   },
   "source": [
    "text = \"\"\"\n",
    "a = 1\n",
    "b = 2\n",
    "if a > b:\n",
    "    print(f\"{a} est supérieur à {b}\"\n",
    "else:\n",
    "\"\"\"\n",
    "\n",
    "print(do_predict(model, text))\n"
   ],
   "outputs": [
    {
     "name": "stdout",
     "output_type": "stream",
     "text": [
      "Prompte : \n",
      "a = 1\n",
      "b = 2\n",
      "if a > b:\n",
      "    print(f\"{a} est supérieur à {b}\"\n",
      "else:\n",
      "\n",
      "----\n",
      "Input ids : tensor([[  198,    64,   796,   352,   198,    65,   796,   362,   198,   361,\n",
      "           257,  1875,   275,    25,   198, 50284,  4798,     7,    69,     1,\n",
      "            90,    64,    92,  1556,  7418,  2634,  5034,   333, 28141,  1391,\n",
      "            65, 36786,   198, 17772,    25,   198]])\n",
      "---\n",
      "----\n",
      "tensor([  198,    64,   796,   352,   198,    65,   796,   362,   198,   361,\n",
      "          257,  1875,   275,    25,   198, 50284,  4798,     7,    69,     1,\n",
      "           90,    64,    92,  1556,  7418,  2634,  5034,   333, 28141,  1391,\n",
      "           65, 36786,   198, 17772,    25,   198, 50284,  4798,     7,    69,\n",
      "            1,    90,    65,    92,  1556,  7418,  2634,  5034,   333, 28141,\n",
      "         1391,    64,    92,  4943,   198,   198,     2,  1475,  2798,   501,\n",
      "          198,    64,   796,   493,     7, 15414,  7203,    64,   796,   366,\n",
      "         4008,   198,    65,   796,   493,     7, 15414,  7203,    65,   796,\n",
      "          366,  4008,   198,   361,   257,  1875,   275,    25,   198, 50284,\n",
      "         4798,     7,    69,     1,    90,    64,    92,  1556,  7418,  2634,\n",
      "         5034,   333, 28141,  1391,    65,    92,  4943,   198,   417,   361,\n",
      "          257,  6624,   275,    25,   198, 50284,  4798,     7,    69,     1,\n",
      "           90,    64,    92,  1556, 38251, 13528, 28141,  1391,    65,    92,\n",
      "         4943,   198, 17772,    25,   198, 50284,  4798,     7,    69,     1,\n",
      "           90,    65,    92,  1556,  7418,  2634,  5034,   333, 28141,  1391,\n",
      "           64,    92,  4943,   198, 50256])\n",
      "----\n",
      "\n",
      "a = 1\n",
      "b = 2\n",
      "if a > b:\n",
      "    print(f\"{a} est supérieur à {b}\"\n",
      "else:\n",
      "    print(f\"{b} est supérieur à {a}\")\n",
      "\n",
      "# Exercice\n",
      "a = int(input(\"a = \"))\n",
      "b = int(input(\"b = \"))\n",
      "if a > b:\n",
      "    print(f\"{a} est supérieur à {b}\")\n",
      "elif a == b:\n",
      "    print(f\"{a} est égal à {b}\")\n",
      "else:\n",
      "    print(f\"{b} est supérieur à {a}\")\n",
      "\n"
     ]
    }
   ],
   "execution_count": 118
  },
  {
   "metadata": {
    "ExecuteTime": {
     "end_time": "2025-07-29T10:36:10.796871Z",
     "start_time": "2025-07-29T10:36:00.590482Z"
    }
   },
   "cell_type": "code",
   "source": "print(do_predict(model, text, temperature=1))",
   "id": "adc34b199a9402e5",
   "outputs": [
    {
     "name": "stdout",
     "output_type": "stream",
     "text": [
      "Prompte : \n",
      "a = 1\n",
      "b = 2\n",
      "if a > b:\n",
      "    print(f\"{a} est supérieur à {b}\"\n",
      "else:\n",
      "\n",
      "----\n",
      "Input ids : tensor([[  198,    64,   796,   352,   198,    65,   796,   362,   198,   361,\n",
      "           257,  1875,   275,    25,   198, 50284,  4798,     7,    69,     1,\n",
      "            90,    64,    92,  1556,  7418,  2634,  5034,   333, 28141,  1391,\n",
      "            65, 36786,   198, 17772,    25,   198]])\n",
      "---\n",
      "----\n",
      "tensor([  198,    64,   796,   352,   198,    65,   796,   362,   198,   361,\n",
      "          257,  1875,   275,    25,   198, 50284,  4798,     7,    69,     1,\n",
      "           90,    64,    92,  1556,  7418,  2634,  5034,   333, 28141,  1391,\n",
      "           65, 36786,   198, 17772,    25,   198, 50284,  4798,     7,    69,\n",
      "            1,    90,    65,    92,  1556,  1167,  2634,  5034,   333, 28141,\n",
      "         1391,    64,    92,  4943,   198,   198,     2,  9724,   291,  1538,\n",
      "          274,   198,   198,   496,   796,  1160,   198,   361,  2479, 18189,\n",
      "         1248,    25,   198, 50284,  4798,  7203,    34,  5857,   410,  1000,\n",
      "          333,  1556,   275,  2013,   308, 35942,  2634,  1373,    11,   269,\n",
      "            6,   395,  8591,   410,   494,   297, 40833,  4943,   198, 17772,\n",
      "           25,   198, 50284,  4798,  7203,    34,  5857,   410,  1000,   333,\n",
      "         1556,  5556,  4490,    68,  8358,   269,  5857,  1960,   260,  4943,\n",
      "          198,   198,   361,  2479,  1279,  1160,    25,   198, 50284,  4798,\n",
      "         7203,    53,   516,  6184,   103,  4879, 38836,   552, 10920,   260,\n",
      "          443, 10451,   557,  2123,   410,   516,   299,     6, 25792,  4879,\n",
      "        38836,   552, 10920,   260,  4943,   198, 17772,    25,   198, 50284,\n",
      "         4798,  7203,    50,   504,  1125,    85,   559,  2395,   269,  5857,\n",
      "          410,  1000,   333,  1556,   275,  2013,   308, 35942,  2634,  1373,\n",
      "           11,   269,     6,   395,  8591,   410,   494,   297, 40833,  4943,\n",
      "          628,   198,     2,  1475,   368,  1154,   390,   329,   198,   198])\n",
      "----\n",
      "\n",
      "a = 1\n",
      "b = 2\n",
      "if a > b:\n",
      "    print(f\"{a} est supérieur à {b}\"\n",
      "else:\n",
      "    print(f\"{b} est inférieur à {a}\")\n",
      "\n",
      "# Condicionales\n",
      "\n",
      "age = 20\n",
      "if age >= 18:\n",
      "    print(\"Cette valeur est bien général, c'est la vielliste\")\n",
      "else:\n",
      "    print(\"Cette valeur est plus grande que cette autre\")\n",
      "\n",
      "if age < 20:\n",
      "    print(\"Vous êtes pas comprendre le formulaire et vous n'êtes pas comprendre\")\n",
      "else:\n",
      "    print(\"Sans chevauche cette valeur est bien général, c'est la vielliste\")\n",
      "\n",
      "\n",
      "# Exemple de for\n",
      "\n",
      "\n"
     ]
    }
   ],
   "execution_count": 119
  },
  {
   "metadata": {
    "ExecuteTime": {
     "end_time": "2025-07-29T10:36:21.039082Z",
     "start_time": "2025-07-29T10:36:10.812248Z"
    }
   },
   "cell_type": "code",
   "source": "print(do_predict(model, text, temperature=0.01))",
   "id": "dcc75ca4f08abd67",
   "outputs": [
    {
     "name": "stdout",
     "output_type": "stream",
     "text": [
      "Prompte : \n",
      "a = 1\n",
      "b = 2\n",
      "if a > b:\n",
      "    print(f\"{a} est supérieur à {b}\"\n",
      "else:\n",
      "\n",
      "----\n",
      "Input ids : tensor([[  198,    64,   796,   352,   198,    65,   796,   362,   198,   361,\n",
      "           257,  1875,   275,    25,   198, 50284,  4798,     7,    69,     1,\n",
      "            90,    64,    92,  1556,  7418,  2634,  5034,   333, 28141,  1391,\n",
      "            65, 36786,   198, 17772,    25,   198]])\n",
      "---\n",
      "----\n",
      "tensor([  198,    64,   796,   352,   198,    65,   796,   362,   198,   361,\n",
      "          257,  1875,   275,    25,   198, 50284,  4798,     7,    69,     1,\n",
      "           90,    64,    92,  1556,  7418,  2634,  5034,   333, 28141,  1391,\n",
      "           65, 36786,   198, 17772,    25,   198, 50284,  4798,     7,    69,\n",
      "            1,    90,    65,    92,  1556,  7418,  2634,  5034,   333, 28141,\n",
      "         1391,    64,    92,  4943,   198,   198,     2,  1475,  2798,   501,\n",
      "          198,   198,     2,   352,    13,   198,     2,  1550,  3512,    68,\n",
      "        28141,   300,     6, 22602,   271, 15093,   390,   473,   271,   343,\n",
      "          555,   299,  2381,   260,   920,   959,    13,   198,     2,  1550,\n",
      "         1527, 14234,   443,   299,  2381,   260,   920,   959,   473, 23267,\n",
      "           13,   198,     2,  1550,  3512,    68, 28141,   300,     6, 22602,\n",
      "          271, 15093,   390,   473,   271,   343,   555,   299,  2381,   260,\n",
      "          920,   959,    13,   198,     2,  1550,  1527, 14234,   443,   299,\n",
      "         2381,   260,   920,   959,   473, 23267,    13,   198,     2,  1550,\n",
      "         3512,    68, 28141,   300,     6, 22602,   271, 15093,   390,   473,\n",
      "          271,   343,   555,   299,  2381,   260,   920,   959,    13,   198,\n",
      "            2,  1550,  1527, 14234,   443,   299,  2381,   260,   920,   959,\n",
      "          473, 23267,    13,   198,     2,  1550,  3512,    68, 28141,   300,\n",
      "            6, 22602,   271, 15093,   390,   473,   271,   343,   555,   299,\n",
      "         2381,   260,   920,   959,    13,   198,     2,  1550,  1527, 14234])\n",
      "----\n",
      "\n",
      "a = 1\n",
      "b = 2\n",
      "if a > b:\n",
      "    print(f\"{a} est supérieur à {b}\"\n",
      "else:\n",
      "    print(f\"{b} est supérieur à {a}\")\n",
      "\n",
      "# Exercice\n",
      "\n",
      "# 1.\n",
      "# On demande à l'utilisateur de saisir un nombre entier.\n",
      "# On affiche le nombre entier saisi.\n",
      "# On demande à l'utilisateur de saisir un nombre entier.\n",
      "# On affiche le nombre entier saisi.\n",
      "# On demande à l'utilisateur de saisir un nombre entier.\n",
      "# On affiche le nombre entier saisi.\n",
      "# On demande à l'utilisateur de saisir un nombre entier.\n",
      "# On affiche\n"
     ]
    }
   ],
   "execution_count": 120
  },
  {
   "metadata": {
    "ExecuteTime": {
     "end_time": "2025-07-29T10:37:28.331068Z",
     "start_time": "2025-07-29T10:36:21.053975Z"
    }
   },
   "cell_type": "code",
   "source": "print(do_predict(model, text, temperature=0.01, max_length=1024))",
   "id": "59174e8596193e39",
   "outputs": [
    {
     "name": "stdout",
     "output_type": "stream",
     "text": [
      "Prompte : \n",
      "a = 1\n",
      "b = 2\n",
      "if a > b:\n",
      "    print(f\"{a} est supérieur à {b}\"\n",
      "else:\n",
      "\n",
      "----\n",
      "Input ids : tensor([[  198,    64,   796,   352,   198,    65,   796,   362,   198,   361,\n",
      "           257,  1875,   275,    25,   198, 50284,  4798,     7,    69,     1,\n",
      "            90,    64,    92,  1556,  7418,  2634,  5034,   333, 28141,  1391,\n",
      "            65, 36786,   198, 17772,    25,   198]])\n",
      "---\n",
      "----\n",
      "tensor([198,  64, 796,  ..., 959,  13, 198])\n",
      "----\n",
      "\n",
      "a = 1\n",
      "b = 2\n",
      "if a > b:\n",
      "    print(f\"{a} est supérieur à {b}\"\n",
      "else:\n",
      "    print(f\"{b} est supérieur à {a}\")\n",
      "\n",
      "# Exercice\n",
      "\n",
      "# 1.\n",
      "# On demande à l'utilisateur de saisir un nombre entier.\n",
      "# On affiche le nombre entier saisi.\n",
      "# On demande à l'utilisateur de saisir un nombre entier.\n",
      "# On affiche le nombre entier saisi.\n",
      "# On demande à l'utilisateur de saisir un nombre entier.\n",
      "# On affiche le nombre entier saisi.\n",
      "# On demande à l'utilisateur de saisir un nombre entier.\n",
      "# On affiche le nombre entier saisi.\n",
      "# On demande à l'utilisateur de saisir un nombre entier.\n",
      "# On affiche le nombre entier saisi.\n",
      "# On demande à l'utilisateur de saisir un nombre entier.\n",
      "# On affiche le nombre entier saisi.\n",
      "# On demande à l'utilisateur de saisir un nombre entier.\n",
      "# On affiche le nombre entier saisi.\n",
      "# On demande à l'utilisateur de saisir un nombre entier.\n",
      "# On affiche le nombre entier saisi.\n",
      "# On demande à l'utilisateur de saisir un nombre entier.\n",
      "# On affiche le nombre entier saisi.\n",
      "# On demande à l'utilisateur de saisir un nombre entier.\n",
      "# On affiche le nombre entier saisi.\n",
      "# On demande à l'utilisateur de saisir un nombre entier.\n",
      "# On affiche le nombre entier saisi.\n",
      "# On demande à l'utilisateur de saisir un nombre entier.\n",
      "# On affiche le nombre entier saisi.\n",
      "# On demande à l'utilisateur de saisir un nombre entier.\n",
      "# On affiche le nombre entier saisi.\n",
      "# On demande à l'utilisateur de saisir un nombre entier.\n",
      "# On affiche le nombre entier saisi.\n",
      "# On demande à l'utilisateur de saisir un nombre entier.\n",
      "# On affiche le nombre entier saisi.\n",
      "# On demande à l'utilisateur de saisir un nombre entier.\n",
      "# On affiche le nombre entier saisi.\n",
      "# On demande à l'utilisateur de saisir un nombre entier.\n",
      "# On affiche le nombre entier saisi.\n",
      "# On demande à l'utilisateur de saisir un nombre entier.\n",
      "# On affiche le nombre entier saisi.\n",
      "# On demande à l'utilisateur de saisir un nombre entier.\n",
      "# On affiche le nombre entier saisi.\n",
      "# On demande à l'utilisateur de saisir un nombre entier.\n",
      "# On affiche le nombre entier saisi.\n",
      "# On demande à l'utilisateur de saisir un nombre entier.\n",
      "# On affiche le nombre entier saisi.\n",
      "# On demande à l'utilisateur de saisir un nombre entier.\n",
      "# On affiche le nombre entier saisi.\n",
      "# On demande à l'utilisateur de saisir un nombre entier.\n",
      "# On affiche le nombre entier saisi.\n",
      "# On demande à l'utilisateur de saisir un nombre entier.\n",
      "# On affiche le nombre entier saisi.\n",
      "# On demande à l'utilisateur de saisir un nombre entier.\n",
      "# On affiche le nombre entier saisi.\n",
      "# On demande à l'utilisateur de saisir un nombre entier.\n",
      "# On affiche le nombre entier saisi.\n",
      "# On demande à l'utilisateur de saisir un nombre entier.\n",
      "\n"
     ]
    }
   ],
   "execution_count": 121
  },
  {
   "metadata": {
    "ExecuteTime": {
     "end_time": "2025-07-29T10:37:39.287253Z",
     "start_time": "2025-07-29T10:37:28.393415Z"
    }
   },
   "cell_type": "code",
   "source": [
    "model = AutoModelForCausalLM.from_pretrained(model_name)\n",
    "print(do_predict(model, \"\"\"\n",
    "generete une fonction pour calculer la somme des 5 premiers chiffres\n",
    "\"\"\"))"
   ],
   "id": "ed3bcf99fe528cdd",
   "outputs": [
    {
     "name": "stderr",
     "output_type": "stream",
     "text": [
      "Some weights of the model checkpoint at Salesforce/codegen-350M-mono were not used when initializing CodeGenForCausalLM: ['transformer.h.0.attn.causal_mask', 'transformer.h.1.attn.causal_mask', 'transformer.h.10.attn.causal_mask', 'transformer.h.11.attn.causal_mask', 'transformer.h.12.attn.causal_mask', 'transformer.h.13.attn.causal_mask', 'transformer.h.14.attn.causal_mask', 'transformer.h.15.attn.causal_mask', 'transformer.h.16.attn.causal_mask', 'transformer.h.17.attn.causal_mask', 'transformer.h.18.attn.causal_mask', 'transformer.h.19.attn.causal_mask', 'transformer.h.2.attn.causal_mask', 'transformer.h.3.attn.causal_mask', 'transformer.h.4.attn.causal_mask', 'transformer.h.5.attn.causal_mask', 'transformer.h.6.attn.causal_mask', 'transformer.h.7.attn.causal_mask', 'transformer.h.8.attn.causal_mask', 'transformer.h.9.attn.causal_mask']\n",
      "- This IS expected if you are initializing CodeGenForCausalLM from the checkpoint of a model trained on another task or with another architecture (e.g. initializing a BertForSequenceClassification model from a BertForPreTraining model).\n",
      "- This IS NOT expected if you are initializing CodeGenForCausalLM from the checkpoint of a model that you expect to be exactly identical (initializing a BertForSequenceClassification model from a BertForSequenceClassification model).\n"
     ]
    },
    {
     "name": "stdout",
     "output_type": "stream",
     "text": [
      "Prompte : \n",
      "generete une fonction pour calculer la somme des 5 premiers chiffres\n",
      "\n",
      "----\n",
      "Input ids : tensor([[  198,  5235,   567,   660, 17809,   277,   261,   596, 12797,  5204,\n",
      "           263,  8591,  3870,  1326,   748,   642,  4199,  3183,   442,   733,\n",
      "           411,   198]])\n",
      "---\n",
      "----\n",
      "tensor([  198,  5235,   567,   660, 17809,   277,   261,   596, 12797,  5204,\n",
      "          263,  8591,  3870,  1326,   748,   642,  4199,  3183,   442,   733,\n",
      "          411,   198,     7,   785,  1326,  1058,   657,    11,   352,    11,\n",
      "          362,    11,   513,    11,   604,    11,   642,     8,   198, 37811,\n",
      "          628,   198,  4299,  3870,  1326,    62,   354,   733,   411,     7,\n",
      "           77,  2599,   198, 50284, 37811,   198, 50284,    25, 17143,   299,\n",
      "           25,   299,  2381,   260,   390,   442,   733,   411,   198, 50284,\n",
      "           25,  7783,    25,  8591,  3870,  1326,   748,   642,  4199,  3183,\n",
      "          442,   733,   411,   198, 50284, 37811,   198, 50284,  7783,  2160,\n",
      "            7,  9521,     7,    15,    11,   299,  1343,   352,  4008,   628,\n",
      "          198,  4299,  1332,    62,    82,   296,  1326,    62,   354,   733,\n",
      "          411, 33529,   198, 50284, 30493,  3870,  1326,    62,   354,   733,\n",
      "          411,     7,    20,     8,  6624,  5996,   628,   198,  4299,  1388,\n",
      "        33529,   198, 50284,  9288,    62,    82,   296,  1326,    62,   354,\n",
      "          733,   411,  3419,   198, 50284,  4798,  7203, 18467,  4943,   628,\n",
      "          198,   361, 11593,  3672,   834,  6624,   705,   834, 12417,   834,\n",
      "        10354,   198, 50284, 12417,  3419,   198, 50256])\n",
      "----\n",
      "\n",
      "generete une fonction pour calculer la somme des 5 premiers chiffres\n",
      "(comme : 0, 1, 2, 3, 4, 5)\n",
      "\"\"\"\n",
      "\n",
      "\n",
      "def somme_chiffres(n):\n",
      "    \"\"\"\n",
      "    :param n: nombre de chiffres\n",
      "    :return: la somme des 5 premiers chiffres\n",
      "    \"\"\"\n",
      "    return sum(range(0, n + 1))\n",
      "\n",
      "\n",
      "def test_somme_chiffres():\n",
      "    assert somme_chiffres(5) == 55\n",
      "\n",
      "\n",
      "def main():\n",
      "    test_somme_chiffres()\n",
      "    print(\"Fin\")\n",
      "\n",
      "\n",
      "if __name__ == '__main__':\n",
      "    main()\n",
      "\n"
     ]
    }
   ],
   "execution_count": 122
  },
  {
   "metadata": {},
   "cell_type": "markdown",
   "source": "## test du code",
   "id": "f579c5e8dbabfa33"
  },
  {
   "metadata": {},
   "cell_type": "markdown",
   "source": "1er run",
   "id": "b20c794dad5304cb"
  },
  {
   "metadata": {
    "ExecuteTime": {
     "end_time": "2025-07-29T10:37:43.703891Z",
     "start_time": "2025-07-29T10:37:39.301980Z"
    }
   },
   "cell_type": "code",
   "source": [
    "def somme_chiffres(n):\n",
    "    \"\"\"\n",
    "    :param n: nombre de chiffres\n",
    "    :return: la somme des 5 premiers chiffres\n",
    "    \"\"\"\n",
    "    somme = 0\n",
    "    for i in range(n):\n",
    "        somme += i\n",
    "    return somme\n",
    "\n",
    "def main():\n",
    "    \"\"\"\n",
    "    :return: la somme des 5 premiers chiffres\n",
    "    \"\"\"\n",
    "    n = int(input(\"Entrer un nombre : \"))\n",
    "    print(somme_chiffres(n))\n",
    "\n",
    "if __name__ == \"__main__\":\n",
    "    main()"
   ],
   "id": "78551c9b97935e99",
   "outputs": [
    {
     "ename": "KeyboardInterrupt",
     "evalue": "Interrupted by user",
     "output_type": "error",
     "traceback": [
      "\u001B[31m---------------------------------------------------------------------------\u001B[39m",
      "\u001B[31mKeyboardInterrupt\u001B[39m                         Traceback (most recent call last)",
      "\u001B[36mCell\u001B[39m\u001B[36m \u001B[39m\u001B[32mIn[123]\u001B[39m\u001B[32m, line 19\u001B[39m\n\u001B[32m     16\u001B[39m     \u001B[38;5;28mprint\u001B[39m(somme_chiffres(n))\n\u001B[32m     18\u001B[39m \u001B[38;5;28;01mif\u001B[39;00m \u001B[34m__name__\u001B[39m == \u001B[33m\"\u001B[39m\u001B[33m__main__\u001B[39m\u001B[33m\"\u001B[39m:\n\u001B[32m---> \u001B[39m\u001B[32m19\u001B[39m     main()\n",
      "\u001B[36mCell\u001B[39m\u001B[36m \u001B[39m\u001B[32mIn[123]\u001B[39m\u001B[32m, line 15\u001B[39m, in \u001B[36mmain\u001B[39m\u001B[34m()\u001B[39m\n\u001B[32m     11\u001B[39m \u001B[38;5;28;01mdef\u001B[39;00m\u001B[38;5;250m \u001B[39m\u001B[34mmain\u001B[39m():\n\u001B[32m     12\u001B[39m \u001B[38;5;250m    \u001B[39m\u001B[33;03m\"\"\"\u001B[39;00m\n\u001B[32m     13\u001B[39m \u001B[33;03m    :return: la somme des 5 premiers chiffres\u001B[39;00m\n\u001B[32m     14\u001B[39m \u001B[33;03m    \"\"\"\u001B[39;00m\n\u001B[32m---> \u001B[39m\u001B[32m15\u001B[39m     n = \u001B[38;5;28mint\u001B[39m(\u001B[38;5;28minput\u001B[39m(\u001B[33m\"\u001B[39m\u001B[33mEntrer un nombre : \u001B[39m\u001B[33m\"\u001B[39m))\n\u001B[32m     16\u001B[39m     \u001B[38;5;28mprint\u001B[39m(somme_chiffres(n))\n",
      "\u001B[36mFile \u001B[39m\u001B[32m~/anaconda3/envs/opco-module-4/lib/python3.11/site-packages/ipykernel/kernelbase.py:1282\u001B[39m, in \u001B[36mKernel.raw_input\u001B[39m\u001B[34m(self, prompt)\u001B[39m\n\u001B[32m   1280\u001B[39m     msg = \u001B[33m\"\u001B[39m\u001B[33mraw_input was called, but this frontend does not support input requests.\u001B[39m\u001B[33m\"\u001B[39m\n\u001B[32m   1281\u001B[39m     \u001B[38;5;28;01mraise\u001B[39;00m StdinNotImplementedError(msg)\n\u001B[32m-> \u001B[39m\u001B[32m1282\u001B[39m \u001B[38;5;28;01mreturn\u001B[39;00m \u001B[38;5;28mself\u001B[39m._input_request(\n\u001B[32m   1283\u001B[39m     \u001B[38;5;28mstr\u001B[39m(prompt),\n\u001B[32m   1284\u001B[39m     \u001B[38;5;28mself\u001B[39m._parent_ident[\u001B[33m\"\u001B[39m\u001B[33mshell\u001B[39m\u001B[33m\"\u001B[39m],\n\u001B[32m   1285\u001B[39m     \u001B[38;5;28mself\u001B[39m.get_parent(\u001B[33m\"\u001B[39m\u001B[33mshell\u001B[39m\u001B[33m\"\u001B[39m),\n\u001B[32m   1286\u001B[39m     password=\u001B[38;5;28;01mFalse\u001B[39;00m,\n\u001B[32m   1287\u001B[39m )\n",
      "\u001B[36mFile \u001B[39m\u001B[32m~/anaconda3/envs/opco-module-4/lib/python3.11/site-packages/ipykernel/kernelbase.py:1325\u001B[39m, in \u001B[36mKernel._input_request\u001B[39m\u001B[34m(self, prompt, ident, parent, password)\u001B[39m\n\u001B[32m   1322\u001B[39m \u001B[38;5;28;01mexcept\u001B[39;00m \u001B[38;5;167;01mKeyboardInterrupt\u001B[39;00m:\n\u001B[32m   1323\u001B[39m     \u001B[38;5;66;03m# re-raise KeyboardInterrupt, to truncate traceback\u001B[39;00m\n\u001B[32m   1324\u001B[39m     msg = \u001B[33m\"\u001B[39m\u001B[33mInterrupted by user\u001B[39m\u001B[33m\"\u001B[39m\n\u001B[32m-> \u001B[39m\u001B[32m1325\u001B[39m     \u001B[38;5;28;01mraise\u001B[39;00m \u001B[38;5;167;01mKeyboardInterrupt\u001B[39;00m(msg) \u001B[38;5;28;01mfrom\u001B[39;00m\u001B[38;5;250m \u001B[39m\u001B[38;5;28;01mNone\u001B[39;00m\n\u001B[32m   1326\u001B[39m \u001B[38;5;28;01mexcept\u001B[39;00m \u001B[38;5;167;01mException\u001B[39;00m:\n\u001B[32m   1327\u001B[39m     \u001B[38;5;28mself\u001B[39m.log.warning(\u001B[33m\"\u001B[39m\u001B[33mInvalid Message:\u001B[39m\u001B[33m\"\u001B[39m, exc_info=\u001B[38;5;28;01mTrue\u001B[39;00m)\n",
      "\u001B[31mKeyboardInterrupt\u001B[39m: Interrupted by user"
     ]
    }
   ],
   "execution_count": 123
  },
  {
   "metadata": {},
   "cell_type": "markdown",
   "source": "2eme run",
   "id": "9a77c5b6f579c14e"
  },
  {
   "metadata": {
    "ExecuteTime": {
     "end_time": "2025-07-29T10:37:43.705913070Z",
     "start_time": "2025-07-29T10:02:07.948018Z"
    }
   },
   "cell_type": "code",
   "source": [
    "### j'ai ajouté le \"\"\" pour rendre le code valide\n",
    "\"\"\"\n",
    "generete une fonction pour calculer la somme des 5 premiers chiffres\n",
    "définit les chiffres en fonction de la division par 5\n",
    "\"\"\"\n",
    "\n",
    "def somme():\n",
    "\n",
    "    somme = 0\n",
    "\n",
    "    for i in range(5):\n",
    "        somme = somme + int(input(\"Entrez le chiffre : \"))\n",
    "\n",
    "    print(somme)\n",
    "\n",
    "somme()\n"
   ],
   "id": "7832785d34199054",
   "outputs": [
    {
     "name": "stdout",
     "output_type": "stream",
     "text": [
      "5\n"
     ]
    }
   ],
   "execution_count": 101
  }
 ],
 "metadata": {
  "kernelspec": {
   "display_name": "Python 3",
   "language": "python",
   "name": "python3"
  },
  "language_info": {
   "codemirror_mode": {
    "name": "ipython",
    "version": 2
   },
   "file_extension": ".py",
   "mimetype": "text/x-python",
   "name": "python",
   "nbconvert_exporter": "python",
   "pygments_lexer": "ipython2",
   "version": "2.7.6"
  }
 },
 "nbformat": 4,
 "nbformat_minor": 5
}
