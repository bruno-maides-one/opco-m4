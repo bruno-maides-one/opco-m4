{
 "cells": [
  {
   "metadata": {},
   "cell_type": "markdown",
   "source": [
    "# Exemple d'utilisation d'un transfcormer dans le cadre de la génération de code.\n",
    "\n",
    "On utilise au chois les modeles\n",
    "\n",
    "* codegen-350M-mono\n",
    "* codegen-2B-mono\n",
    "*"
   ],
   "id": "221643bb67bb1c5f"
  },
  {
   "metadata": {
    "ExecuteTime": {
     "end_time": "2025-07-30T05:57:17.154082Z",
     "start_time": "2025-07-30T05:57:17.152573Z"
    }
   },
   "cell_type": "code",
   "source": "model_name = \"Salesforce/codegen-350M-mono\"",
   "id": "e0d7ac62e8466100",
   "outputs": [],
   "execution_count": 12
  },
  {
   "metadata": {},
   "cell_type": "markdown",
   "source": [
    "# Observations\n",
    "\n",
    "* En promptant sur un debut de code le model est capable de prédire du code correcte sur des soucis simple mais pas parfait\n",
    "* En utilisant le model il semble y avoir conservation du context\n",
    "    * Pour vérifier réinitialisé l'appel entre chaque"
   ],
   "id": "777256518e6c8f42"
  },
  {
   "metadata": {},
   "cell_type": "markdown",
   "source": "## Initialisation du model",
   "id": "f6a5e148407fe210"
  },
  {
   "metadata": {
    "ExecuteTime": {
     "end_time": "2025-07-30T05:57:17.206186Z",
     "start_time": "2025-07-30T05:57:17.205050Z"
    }
   },
   "cell_type": "code",
   "source": [
    "import torch\n",
    "from transformers import AutoTokenizer, AutoModelForCausalLM"
   ],
   "id": "2612531cdf85d1be",
   "outputs": [],
   "execution_count": 13
  },
  {
   "metadata": {
    "ExecuteTime": {
     "end_time": "2025-07-30T05:57:20.013890Z",
     "start_time": "2025-07-30T05:57:17.257535Z"
    }
   },
   "cell_type": "code",
   "source": [
    "# Création du tokenniser\n",
    "tokenizer = AutoTokenizer.from_pretrained(model_name)\n",
    "\n",
    "# Chargement du model\n",
    "model = AutoModelForCausalLM.from_pretrained(model_name)\n",
    "\n",
    "# On declare en global (beurk !) le device pour tester\n",
    "device = None\n",
    "\n",
    "# Vérifie si le GPU est disponible avant de continuer, on met alors à jour device\n",
    "if torch.cuda.is_available():\n",
    "    # Sélectionne spécifiquement le premier GPU (device 0)\n",
    "    device = torch.device(\"cuda:0\")\n",
    "    print(\"Utilisation du GPU :\", torch.cuda.get_device_name(0))\n",
    "else:\n",
    "    device = torch.device(\"cpu\")\n",
    "    print(\"GPU non trouvé, utilisation du CPU.\")\n",
    "\n",
    "# Déplace le modèle vers le GPU 0\n",
    "# ca plante !\n",
    "model.to(device)\n"
   ],
   "id": "cb713a8b98b6a819",
   "outputs": [
    {
     "name": "stderr",
     "output_type": "stream",
     "text": [
      "Some weights of the model checkpoint at Salesforce/codegen-350M-mono were not used when initializing CodeGenForCausalLM: ['transformer.h.0.attn.causal_mask', 'transformer.h.1.attn.causal_mask', 'transformer.h.10.attn.causal_mask', 'transformer.h.11.attn.causal_mask', 'transformer.h.12.attn.causal_mask', 'transformer.h.13.attn.causal_mask', 'transformer.h.14.attn.causal_mask', 'transformer.h.15.attn.causal_mask', 'transformer.h.16.attn.causal_mask', 'transformer.h.17.attn.causal_mask', 'transformer.h.18.attn.causal_mask', 'transformer.h.19.attn.causal_mask', 'transformer.h.2.attn.causal_mask', 'transformer.h.3.attn.causal_mask', 'transformer.h.4.attn.causal_mask', 'transformer.h.5.attn.causal_mask', 'transformer.h.6.attn.causal_mask', 'transformer.h.7.attn.causal_mask', 'transformer.h.8.attn.causal_mask', 'transformer.h.9.attn.causal_mask']\n",
      "- This IS expected if you are initializing CodeGenForCausalLM from the checkpoint of a model trained on another task or with another architecture (e.g. initializing a BertForSequenceClassification model from a BertForPreTraining model).\n",
      "- This IS NOT expected if you are initializing CodeGenForCausalLM from the checkpoint of a model that you expect to be exactly identical (initializing a BertForSequenceClassification model from a BertForSequenceClassification model).\n"
     ]
    },
    {
     "name": "stdout",
     "output_type": "stream",
     "text": [
      "Utilisation du GPU : NVIDIA GeForce RTX 3080 Ti\n"
     ]
    },
    {
     "data": {
      "text/plain": [
       "CodeGenForCausalLM(\n",
       "  (transformer): CodeGenModel(\n",
       "    (wte): Embedding(51200, 1024)\n",
       "    (drop): Dropout(p=0.0, inplace=False)\n",
       "    (h): ModuleList(\n",
       "      (0-19): 20 x CodeGenBlock(\n",
       "        (ln_1): LayerNorm((1024,), eps=1e-05, elementwise_affine=True)\n",
       "        (attn): CodeGenAttention(\n",
       "          (attn_dropout): Dropout(p=0.0, inplace=False)\n",
       "          (resid_dropout): Dropout(p=0.0, inplace=False)\n",
       "          (qkv_proj): Linear(in_features=1024, out_features=3072, bias=False)\n",
       "          (out_proj): Linear(in_features=1024, out_features=1024, bias=False)\n",
       "        )\n",
       "        (mlp): CodeGenMLP(\n",
       "          (fc_in): Linear(in_features=1024, out_features=4096, bias=True)\n",
       "          (fc_out): Linear(in_features=4096, out_features=1024, bias=True)\n",
       "          (act): NewGELUActivation()\n",
       "          (dropout): Dropout(p=0.0, inplace=False)\n",
       "        )\n",
       "      )\n",
       "    )\n",
       "    (ln_f): LayerNorm((1024,), eps=1e-05, elementwise_affine=True)\n",
       "  )\n",
       "  (lm_head): Linear(in_features=1024, out_features=51200, bias=True)\n",
       ")"
      ]
     },
     "execution_count": 14,
     "metadata": {},
     "output_type": "execute_result"
    }
   ],
   "execution_count": 14
  },
  {
   "metadata": {
    "ExecuteTime": {
     "end_time": "2025-07-30T05:57:20.027853Z",
     "start_time": "2025-07-30T05:57:20.026457Z"
    }
   },
   "cell_type": "code",
   "source": [
    "# Parametres du model\n",
    "\n",
    "max_length=200,  # Adjust as needed\n",
    "num_beams=5,      # Adjust for quality/speed trade-off\n",
    "temperature=0.7,  # Adjust for creativity (higher = more creative)\n",
    "top_k=40,         # Adjust for sampling\n",
    "top_p=0.95,        # Adjust for sampling\n",
    "pad_token_id=tokenizer.eos_token_id # Important for some models"
   ],
   "id": "f5e531cd898ec3a4",
   "outputs": [],
   "execution_count": 15
  },
  {
   "metadata": {
    "ExecuteTime": {
     "end_time": "2025-07-30T05:57:20.077973Z",
     "start_time": "2025-07-30T05:57:20.076122Z"
    }
   },
   "cell_type": "code",
   "source": [
    "def do_predict(model,\n",
    "               prompt: str,\n",
    "               max_length: int = 200,\n",
    "               temperature: float = 0.7,\n",
    "               top_k: int = 40,\n",
    "               top_p: float = 0.9,\n",
    "               pad_token_id: int = tokenizer.eos_token_id):\n",
    "    print(f\"Prompte : {prompt}\\n----\")\n",
    "    input_ids = tokenizer(prompt, return_tensors=\"pt\").input_ids\n",
    "\n",
    "    # On doit transférer les sequence de token dans le GPU.\n",
    "    input_ids = input_ids.to(device)\n",
    "\n",
    "    print(f\"Input ids : {input_ids}\")\n",
    "    print(\"---\")\n",
    "    generated_ids = model.generate(input_ids,\n",
    "                                   max_length=max_length,\n",
    "                                   temperature=temperature,\n",
    "                                   top_k=top_k,\n",
    "                                   top_p=top_p,\n",
    "                                   pad_token_id=pad_token_id,\n",
    "                                   do_sample=True)\n",
    "    print(\"----\")\n",
    "    print(generated_ids[0])\n",
    "    print(\"----\")\n",
    "    return tokenizer.decode(generated_ids[0], skip_special_tokens=True)\n"
   ],
   "id": "d47a6779768f2283",
   "outputs": [],
   "execution_count": 16
  },
  {
   "metadata": {},
   "cell_type": "markdown",
   "source": [
    "## Utilisation pour faire de la completion de code\n",
    "\n",
    "On fournis un fragment de code et on demande au modele de compléter."
   ],
   "id": "40a2c835d1b61720"
  },
  {
   "metadata": {
    "ExecuteTime": {
     "end_time": "2025-07-30T05:57:20.129007Z",
     "start_time": "2025-07-30T05:57:20.128112Z"
    }
   },
   "cell_type": "code",
   "source": "",
   "id": "59a259e1b78b05ee",
   "outputs": [],
   "execution_count": null
  },
  {
   "cell_type": "code",
   "id": "initial_id",
   "metadata": {
    "collapsed": true,
    "ExecuteTime": {
     "end_time": "2025-07-30T05:57:20.314401Z",
     "start_time": "2025-07-30T05:57:20.179126Z"
    }
   },
   "source": [
    "text = \"\"\"\n",
    "a = 1\n",
    "b = 2\n",
    "if a > b:\n",
    "    print(f\"{a} est supérieur à {b}\"\n",
    "else:\n",
    "\"\"\"\n",
    "\n",
    "print(do_predict(model, text))\n"
   ],
   "outputs": [
    {
     "name": "stdout",
     "output_type": "stream",
     "text": [
      "Prompte : \n",
      "a = 1\n",
      "b = 2\n",
      "if a > b:\n",
      "    print(f\"{a} est supérieur à {b}\"\n",
      "else:\n",
      "\n",
      "----\n",
      "Input ids : tensor([[  198,    64,   796,   352,   198,    65,   796,   362,   198,   361,\n",
      "           257,  1875,   275,    25,   198, 50284,  4798,     7,    69,     1,\n",
      "            90,    64,    92,  1556,  7418,  2634,  5034,   333, 28141,  1391,\n",
      "            65, 36786,   198, 17772,    25,   198]], device='cuda:0')\n",
      "---\n",
      "----\n",
      "tensor([  198,    64,   796,   352,   198,    65,   796,   362,   198,   361,\n",
      "          257,  1875,   275,    25,   198, 50284,  4798,     7,    69,     1,\n",
      "           90,    64,    92,  1556,  7418,  2634,  5034,   333, 28141,  1391,\n",
      "           65, 36786,   198, 17772,    25,   198, 50284,  4798,     7,    69,\n",
      "            1,    90,    65,    92,  1556,  7418,  2634,  5034,   333, 28141,\n",
      "         1391,    64, 36786,   198, 50256], device='cuda:0')\n",
      "----\n",
      "\n",
      "a = 1\n",
      "b = 2\n",
      "if a > b:\n",
      "    print(f\"{a} est supérieur à {b}\"\n",
      "else:\n",
      "    print(f\"{b} est supérieur à {a}\"\n",
      "\n"
     ]
    }
   ],
   "execution_count": 17
  },
  {
   "metadata": {
    "ExecuteTime": {
     "end_time": "2025-07-30T05:57:21.012901Z",
     "start_time": "2025-07-30T05:57:20.324191Z"
    }
   },
   "cell_type": "code",
   "source": "print(do_predict(model, text, temperature=1))",
   "id": "adc34b199a9402e5",
   "outputs": [
    {
     "name": "stdout",
     "output_type": "stream",
     "text": [
      "Prompte : \n",
      "a = 1\n",
      "b = 2\n",
      "if a > b:\n",
      "    print(f\"{a} est supérieur à {b}\"\n",
      "else:\n",
      "\n",
      "----\n",
      "Input ids : tensor([[  198,    64,   796,   352,   198,    65,   796,   362,   198,   361,\n",
      "           257,  1875,   275,    25,   198, 50284,  4798,     7,    69,     1,\n",
      "            90,    64,    92,  1556,  7418,  2634,  5034,   333, 28141,  1391,\n",
      "            65, 36786,   198, 17772,    25,   198]], device='cuda:0')\n",
      "---\n",
      "----\n",
      "tensor([  198,    64,   796,   352,   198,    65,   796,   362,   198,   361,\n",
      "          257,  1875,   275,    25,   198, 50284,  4798,     7,    69,     1,\n",
      "           90,    64,    92,  1556,  7418,  2634,  5034,   333, 28141,  1391,\n",
      "           65, 36786,   198, 17772,    25,   198, 50284,  4798,     7,    69,\n",
      "            1,    90,    64,    92,   299,     6,   395, 38836,  7418,  2634,\n",
      "         5034,   333, 28141,  1391,    65,    92,  4943,   628,   198,     2,\n",
      "          513,     8,   471,   710,  1339,  1556, 18784,    25,   406,  3087,\n",
      "          260,   657,   198,     2,   471,   710,  1339,  1556,   555,   299,\n",
      "         2381,   260,   198,   198,     2,   604,     8,   791,   299,  2381,\n",
      "          260,  1556,  2659, 12843,  1582,   362,    11,  2123, 33721,  8591,\n",
      "         7297,  1556,   198,     2, 50286,  7146, 12843,  1582,   604,    11,\n",
      "         4229,   277,  2306,   257,    73, 39605,   555,   299,  2381,   260,\n",
      "          198,     2, 50286, 48681, 37063, 10287,  7297,   198,   198,    64,\n",
      "          796,   807,   198,    65,   796,   362,   198,  4798,     7,    64,\n",
      "         4064,   275,     8, 50256], device='cuda:0')\n",
      "----\n",
      "\n",
      "a = 1\n",
      "b = 2\n",
      "if a > b:\n",
      "    print(f\"{a} est supérieur à {b}\"\n",
      "else:\n",
      "    print(f\"{a} n'est pas supérieur à {b}\")\n",
      "\n",
      "\n",
      "# 3) Une case est vide: Lettre 0\n",
      "# Une case est un nombre\n",
      "\n",
      "# 4) Un nombre est divisible par 2, et si la division est\n",
      "#  divisible par 4, il faut ajouter un nombre\n",
      "#  pour faire les division\n",
      "\n",
      "a = 8\n",
      "b = 2\n",
      "print(a % b)\n"
     ]
    }
   ],
   "execution_count": 18
  },
  {
   "metadata": {
    "ExecuteTime": {
     "end_time": "2025-07-30T05:57:22.066341Z",
     "start_time": "2025-07-30T05:57:21.023595Z"
    }
   },
   "cell_type": "code",
   "source": "print(do_predict(model, text, temperature=0.01))",
   "id": "dcc75ca4f08abd67",
   "outputs": [
    {
     "name": "stdout",
     "output_type": "stream",
     "text": [
      "Prompte : \n",
      "a = 1\n",
      "b = 2\n",
      "if a > b:\n",
      "    print(f\"{a} est supérieur à {b}\"\n",
      "else:\n",
      "\n",
      "----\n",
      "Input ids : tensor([[  198,    64,   796,   352,   198,    65,   796,   362,   198,   361,\n",
      "           257,  1875,   275,    25,   198, 50284,  4798,     7,    69,     1,\n",
      "            90,    64,    92,  1556,  7418,  2634,  5034,   333, 28141,  1391,\n",
      "            65, 36786,   198, 17772,    25,   198]], device='cuda:0')\n",
      "---\n",
      "----\n",
      "tensor([  198,    64,   796,   352,   198,    65,   796,   362,   198,   361,\n",
      "          257,  1875,   275,    25,   198, 50284,  4798,     7,    69,     1,\n",
      "           90,    64,    92,  1556,  7418,  2634,  5034,   333, 28141,  1391,\n",
      "           65, 36786,   198, 17772,    25,   198, 50284,  4798,     7,    69,\n",
      "            1,    90,    65,    92,  1556,  7418,  2634,  5034,   333, 28141,\n",
      "         1391,    64,    92,  4943,   198,   198,     2,  1475,  2798,   501,\n",
      "          198,   198,     2,   352,    13,   198,     2,  1550,  3512,    68,\n",
      "        28141,   300,     6, 22602,   271, 15093,   390,   473,   271,   343,\n",
      "          555,   299,  2381,   260,   920,   959,    13,   198,     2,  1550,\n",
      "         1527, 14234,   443,   299,  2381,   260,   920,   959,   473, 23267,\n",
      "           13,   198,     2,  1550,  3512,    68, 28141,   300,     6, 22602,\n",
      "          271, 15093,   390,   473,   271,   343,   555,   299,  2381,   260,\n",
      "          920,   959,    13,   198,     2,  1550,  1527, 14234,   443,   299,\n",
      "         2381,   260,   920,   959,   473, 23267,    13,   198,     2,  1550,\n",
      "         3512,    68, 28141,   300,     6, 22602,   271, 15093,   390,   473,\n",
      "          271,   343,   555,   299,  2381,   260,   920,   959,    13,   198,\n",
      "            2,  1550,  1527, 14234,   443,   299,  2381,   260,   920,   959,\n",
      "          473, 23267,    13,   198,     2,  1550,  3512,    68, 28141,   300,\n",
      "            6, 22602,   271, 15093,   390,   473,   271,   343,   555,   299,\n",
      "         2381,   260,   920,   959,    13,   198,     2,  1550,  1527, 14234],\n",
      "       device='cuda:0')\n",
      "----\n",
      "\n",
      "a = 1\n",
      "b = 2\n",
      "if a > b:\n",
      "    print(f\"{a} est supérieur à {b}\"\n",
      "else:\n",
      "    print(f\"{b} est supérieur à {a}\")\n",
      "\n",
      "# Exercice\n",
      "\n",
      "# 1.\n",
      "# On demande à l'utilisateur de saisir un nombre entier.\n",
      "# On affiche le nombre entier saisi.\n",
      "# On demande à l'utilisateur de saisir un nombre entier.\n",
      "# On affiche le nombre entier saisi.\n",
      "# On demande à l'utilisateur de saisir un nombre entier.\n",
      "# On affiche le nombre entier saisi.\n",
      "# On demande à l'utilisateur de saisir un nombre entier.\n",
      "# On affiche\n"
     ]
    }
   ],
   "execution_count": 19
  },
  {
   "metadata": {
    "ExecuteTime": {
     "end_time": "2025-07-30T05:57:28.108742Z",
     "start_time": "2025-07-30T05:57:22.077668Z"
    }
   },
   "cell_type": "code",
   "source": "print(do_predict(model, text, temperature=0.01, max_length=1024))",
   "id": "59174e8596193e39",
   "outputs": [
    {
     "name": "stdout",
     "output_type": "stream",
     "text": [
      "Prompte : \n",
      "a = 1\n",
      "b = 2\n",
      "if a > b:\n",
      "    print(f\"{a} est supérieur à {b}\"\n",
      "else:\n",
      "\n",
      "----\n",
      "Input ids : tensor([[  198,    64,   796,   352,   198,    65,   796,   362,   198,   361,\n",
      "           257,  1875,   275,    25,   198, 50284,  4798,     7,    69,     1,\n",
      "            90,    64,    92,  1556,  7418,  2634,  5034,   333, 28141,  1391,\n",
      "            65, 36786,   198, 17772,    25,   198]], device='cuda:0')\n",
      "---\n",
      "----\n",
      "tensor([198,  64, 796,  ..., 959,  13, 198], device='cuda:0')\n",
      "----\n",
      "\n",
      "a = 1\n",
      "b = 2\n",
      "if a > b:\n",
      "    print(f\"{a} est supérieur à {b}\"\n",
      "else:\n",
      "    print(f\"{b} est supérieur à {a}\")\n",
      "\n",
      "# Exercice\n",
      "\n",
      "# 1.\n",
      "# On demande à l'utilisateur de saisir un nombre entier.\n",
      "# On affiche le nombre entier saisi.\n",
      "# On demande à l'utilisateur de saisir un nombre entier.\n",
      "# On affiche le nombre entier saisi.\n",
      "# On demande à l'utilisateur de saisir un nombre entier.\n",
      "# On affiche le nombre entier saisi.\n",
      "# On demande à l'utilisateur de saisir un nombre entier.\n",
      "# On affiche le nombre entier saisi.\n",
      "# On demande à l'utilisateur de saisir un nombre entier.\n",
      "# On affiche le nombre entier saisi.\n",
      "# On demande à l'utilisateur de saisir un nombre entier.\n",
      "# On affiche le nombre entier saisi.\n",
      "# On demande à l'utilisateur de saisir un nombre entier.\n",
      "# On affiche le nombre entier saisi.\n",
      "# On demande à l'utilisateur de saisir un nombre entier.\n",
      "# On affiche le nombre entier saisi.\n",
      "# On demande à l'utilisateur de saisir un nombre entier.\n",
      "# On affiche le nombre entier saisi.\n",
      "# On demande à l'utilisateur de saisir un nombre entier.\n",
      "# On affiche le nombre entier saisi.\n",
      "# On demande à l'utilisateur de saisir un nombre entier.\n",
      "# On affiche le nombre entier saisi.\n",
      "# On demande à l'utilisateur de saisir un nombre entier.\n",
      "# On affiche le nombre entier saisi.\n",
      "# On demande à l'utilisateur de saisir un nombre entier.\n",
      "# On affiche le nombre entier saisi.\n",
      "# On demande à l'utilisateur de saisir un nombre entier.\n",
      "# On affiche le nombre entier saisi.\n",
      "# On demande à l'utilisateur de saisir un nombre entier.\n",
      "# On affiche le nombre entier saisi.\n",
      "# On demande à l'utilisateur de saisir un nombre entier.\n",
      "# On affiche le nombre entier saisi.\n",
      "# On demande à l'utilisateur de saisir un nombre entier.\n",
      "# On affiche le nombre entier saisi.\n",
      "# On demande à l'utilisateur de saisir un nombre entier.\n",
      "# On affiche le nombre entier saisi.\n",
      "# On demande à l'utilisateur de saisir un nombre entier.\n",
      "# On affiche le nombre entier saisi.\n",
      "# On demande à l'utilisateur de saisir un nombre entier.\n",
      "# On affiche le nombre entier saisi.\n",
      "# On demande à l'utilisateur de saisir un nombre entier.\n",
      "# On affiche le nombre entier saisi.\n",
      "# On demande à l'utilisateur de saisir un nombre entier.\n",
      "# On affiche le nombre entier saisi.\n",
      "# On demande à l'utilisateur de saisir un nombre entier.\n",
      "# On affiche le nombre entier saisi.\n",
      "# On demande à l'utilisateur de saisir un nombre entier.\n",
      "# On affiche le nombre entier saisi.\n",
      "# On demande à l'utilisateur de saisir un nombre entier.\n",
      "# On affiche le nombre entier saisi.\n",
      "# On demande à l'utilisateur de saisir un nombre entier.\n",
      "# On affiche le nombre entier saisi.\n",
      "# On demande à l'utilisateur de saisir un nombre entier.\n",
      "\n"
     ]
    }
   ],
   "execution_count": 20
  },
  {
   "metadata": {
    "ExecuteTime": {
     "end_time": "2025-07-30T05:57:29.216692Z",
     "start_time": "2025-07-30T05:57:28.122676Z"
    }
   },
   "cell_type": "code",
   "source": [
    "print(do_predict(model, \"\"\"\n",
    "generete une fonction pour calculer la somme des 5 premiers chiffres\n",
    "\"\"\"))"
   ],
   "id": "ed3bcf99fe528cdd",
   "outputs": [
    {
     "name": "stdout",
     "output_type": "stream",
     "text": [
      "Prompte : \n",
      "generete une fonction pour calculer la somme des 5 premiers chiffres\n",
      "\n",
      "----\n",
      "Input ids : tensor([[  198,  5235,   567,   660, 17809,   277,   261,   596, 12797,  5204,\n",
      "           263,  8591,  3870,  1326,   748,   642,  4199,  3183,   442,   733,\n",
      "           411,   198]], device='cuda:0')\n",
      "---\n",
      "----\n",
      "tensor([  198,  5235,   567,   660, 17809,   277,   261,   596, 12797,  5204,\n",
      "          263,  8591,  3870,  1326,   748,   642,  4199,  3183,   442,   733,\n",
      "          411,   198,  5235,   567,   660, 17809,   277,   261,   596, 12797,\n",
      "         5204,   263,  8591,  3870,  1326,   748,   642,  4199,  3183,   442,\n",
      "          733,   411,   198,  5235,   567,   660, 17809,   277,   261,   596,\n",
      "        12797,  5204,   263,  8591,  3870,  1326,   748,   642,  4199,  3183,\n",
      "          442,   733,   411,   198,  5235,   567,   660, 17809,   277,   261,\n",
      "          596, 12797,  5204,   263,  8591,  3870,  1326,   748,   642,  4199,\n",
      "         3183,   442,   733,   411,   198,  5235,   567,   660, 17809,   277,\n",
      "          261,   596, 12797,  5204,   263,  8591,  3870,  1326,   748,   642,\n",
      "         4199,  3183,   442,   733,   411,   198,  5235,   567,   660, 17809,\n",
      "          277,   261,   596, 12797,  5204,   263,  8591,  3870,  1326,   748,\n",
      "          642,  4199,  3183,   442,   733,   411,   198,  5235,   567,   660,\n",
      "        17809,   277,   261,   596, 12797,  5204,   263,  8591,  3870,  1326,\n",
      "          748,   642,  4199,  3183,   442,   733,   411,   198,  5235,   567,\n",
      "          660, 17809,   277,   261,   596, 12797,  5204,   263,  8591,  3870,\n",
      "         1326,   748,   642,  4199,  3183,   442,   733,   411,   198,  5235,\n",
      "          567,   660, 17809,   277,   261,   596, 12797,  5204,   263,  8591,\n",
      "         3870,  1326,   748,   642,  4199,  3183,   442,   733,   411,   198,\n",
      "         5235,   567,   660, 17809,   277,   261,   596, 12797,  5204,   263],\n",
      "       device='cuda:0')\n",
      "----\n",
      "\n",
      "generete une fonction pour calculer la somme des 5 premiers chiffres\n",
      "generete une fonction pour calculer la somme des 5 premiers chiffres\n",
      "generete une fonction pour calculer la somme des 5 premiers chiffres\n",
      "generete une fonction pour calculer la somme des 5 premiers chiffres\n",
      "generete une fonction pour calculer la somme des 5 premiers chiffres\n",
      "generete une fonction pour calculer la somme des 5 premiers chiffres\n",
      "generete une fonction pour calculer la somme des 5 premiers chiffres\n",
      "generete une fonction pour calculer la somme des 5 premiers chiffres\n",
      "generete une fonction pour calculer la somme des 5 premiers chiffres\n",
      "generete une fonction pour calculer\n"
     ]
    }
   ],
   "execution_count": 21
  },
  {
   "metadata": {},
   "cell_type": "markdown",
   "source": "## test du code",
   "id": "f579c5e8dbabfa33"
  },
  {
   "metadata": {},
   "cell_type": "markdown",
   "source": "1er run",
   "id": "b20c794dad5304cb"
  },
  {
   "metadata": {
    "ExecuteTime": {
     "end_time": "2025-07-30T05:57:31.908240Z",
     "start_time": "2025-07-30T05:57:29.228714Z"
    }
   },
   "cell_type": "code",
   "source": [
    "def somme_chiffres(n):\n",
    "    \"\"\"\n",
    "    :param n: nombre de chiffres\n",
    "    :return: la somme des 5 premiers chiffres\n",
    "    \"\"\"\n",
    "    somme = 0\n",
    "    for i in range(n):\n",
    "        somme += i\n",
    "    return somme\n",
    "\n",
    "def main():\n",
    "    \"\"\"\n",
    "    :return: la somme des 5 premiers chiffres\n",
    "    \"\"\"\n",
    "    n = int(input(\"Entrer un nombre : \"))\n",
    "    print(somme_chiffres(n))\n",
    "\n",
    "if __name__ == \"__main__\":\n",
    "    main()"
   ],
   "id": "78551c9b97935e99",
   "outputs": [
    {
     "ename": "KeyboardInterrupt",
     "evalue": "Interrupted by user",
     "output_type": "error",
     "traceback": [
      "\u001B[31m---------------------------------------------------------------------------\u001B[39m",
      "\u001B[31mKeyboardInterrupt\u001B[39m                         Traceback (most recent call last)",
      "\u001B[36mCell\u001B[39m\u001B[36m \u001B[39m\u001B[32mIn[22]\u001B[39m\u001B[32m, line 19\u001B[39m\n\u001B[32m     16\u001B[39m     \u001B[38;5;28mprint\u001B[39m(somme_chiffres(n))\n\u001B[32m     18\u001B[39m \u001B[38;5;28;01mif\u001B[39;00m \u001B[34m__name__\u001B[39m == \u001B[33m\"\u001B[39m\u001B[33m__main__\u001B[39m\u001B[33m\"\u001B[39m:\n\u001B[32m---> \u001B[39m\u001B[32m19\u001B[39m     \u001B[43mmain\u001B[49m\u001B[43m(\u001B[49m\u001B[43m)\u001B[49m\n",
      "\u001B[36mCell\u001B[39m\u001B[36m \u001B[39m\u001B[32mIn[22]\u001B[39m\u001B[32m, line 15\u001B[39m, in \u001B[36mmain\u001B[39m\u001B[34m()\u001B[39m\n\u001B[32m     11\u001B[39m \u001B[38;5;28;01mdef\u001B[39;00m\u001B[38;5;250m \u001B[39m\u001B[34mmain\u001B[39m():\n\u001B[32m     12\u001B[39m \u001B[38;5;250m    \u001B[39m\u001B[33;03m\"\"\"\u001B[39;00m\n\u001B[32m     13\u001B[39m \u001B[33;03m    :return: la somme des 5 premiers chiffres\u001B[39;00m\n\u001B[32m     14\u001B[39m \u001B[33;03m    \"\"\"\u001B[39;00m\n\u001B[32m---> \u001B[39m\u001B[32m15\u001B[39m     n = \u001B[38;5;28mint\u001B[39m(\u001B[38;5;28;43minput\u001B[39;49m\u001B[43m(\u001B[49m\u001B[33;43m\"\u001B[39;49m\u001B[33;43mEntrer un nombre : \u001B[39;49m\u001B[33;43m\"\u001B[39;49m\u001B[43m)\u001B[49m)\n\u001B[32m     16\u001B[39m     \u001B[38;5;28mprint\u001B[39m(somme_chiffres(n))\n",
      "\u001B[36mFile \u001B[39m\u001B[32m~/anaconda3/envs/opco-p3.11/lib/python3.11/site-packages/ipykernel/kernelbase.py:1260\u001B[39m, in \u001B[36mKernel.raw_input\u001B[39m\u001B[34m(self, prompt)\u001B[39m\n\u001B[32m   1258\u001B[39m     msg = \u001B[33m\"\u001B[39m\u001B[33mraw_input was called, but this frontend does not support input requests.\u001B[39m\u001B[33m\"\u001B[39m\n\u001B[32m   1259\u001B[39m     \u001B[38;5;28;01mraise\u001B[39;00m StdinNotImplementedError(msg)\n\u001B[32m-> \u001B[39m\u001B[32m1260\u001B[39m \u001B[38;5;28;01mreturn\u001B[39;00m \u001B[38;5;28;43mself\u001B[39;49m\u001B[43m.\u001B[49m\u001B[43m_input_request\u001B[49m\u001B[43m(\u001B[49m\n\u001B[32m   1261\u001B[39m \u001B[43m    \u001B[49m\u001B[38;5;28;43mstr\u001B[39;49m\u001B[43m(\u001B[49m\u001B[43mprompt\u001B[49m\u001B[43m)\u001B[49m\u001B[43m,\u001B[49m\n\u001B[32m   1262\u001B[39m \u001B[43m    \u001B[49m\u001B[38;5;28;43mself\u001B[39;49m\u001B[43m.\u001B[49m\u001B[43m_parent_ident\u001B[49m\u001B[43m[\u001B[49m\u001B[33;43m\"\u001B[39;49m\u001B[33;43mshell\u001B[39;49m\u001B[33;43m\"\u001B[39;49m\u001B[43m]\u001B[49m\u001B[43m,\u001B[49m\n\u001B[32m   1263\u001B[39m \u001B[43m    \u001B[49m\u001B[38;5;28;43mself\u001B[39;49m\u001B[43m.\u001B[49m\u001B[43mget_parent\u001B[49m\u001B[43m(\u001B[49m\u001B[33;43m\"\u001B[39;49m\u001B[33;43mshell\u001B[39;49m\u001B[33;43m\"\u001B[39;49m\u001B[43m)\u001B[49m\u001B[43m,\u001B[49m\n\u001B[32m   1264\u001B[39m \u001B[43m    \u001B[49m\u001B[43mpassword\u001B[49m\u001B[43m=\u001B[49m\u001B[38;5;28;43;01mFalse\u001B[39;49;00m\u001B[43m,\u001B[49m\n\u001B[32m   1265\u001B[39m \u001B[43m\u001B[49m\u001B[43m)\u001B[49m\n",
      "\u001B[36mFile \u001B[39m\u001B[32m~/anaconda3/envs/opco-p3.11/lib/python3.11/site-packages/ipykernel/kernelbase.py:1305\u001B[39m, in \u001B[36mKernel._input_request\u001B[39m\u001B[34m(self, prompt, ident, parent, password)\u001B[39m\n\u001B[32m   1302\u001B[39m \u001B[38;5;28;01mexcept\u001B[39;00m \u001B[38;5;167;01mKeyboardInterrupt\u001B[39;00m:\n\u001B[32m   1303\u001B[39m     \u001B[38;5;66;03m# re-raise KeyboardInterrupt, to truncate traceback\u001B[39;00m\n\u001B[32m   1304\u001B[39m     msg = \u001B[33m\"\u001B[39m\u001B[33mInterrupted by user\u001B[39m\u001B[33m\"\u001B[39m\n\u001B[32m-> \u001B[39m\u001B[32m1305\u001B[39m     \u001B[38;5;28;01mraise\u001B[39;00m \u001B[38;5;167;01mKeyboardInterrupt\u001B[39;00m(msg) \u001B[38;5;28;01mfrom\u001B[39;00m\u001B[38;5;250m \u001B[39m\u001B[38;5;28;01mNone\u001B[39;00m\n\u001B[32m   1306\u001B[39m \u001B[38;5;28;01mexcept\u001B[39;00m \u001B[38;5;167;01mException\u001B[39;00m:\n\u001B[32m   1307\u001B[39m     \u001B[38;5;28mself\u001B[39m.log.warning(\u001B[33m\"\u001B[39m\u001B[33mInvalid Message:\u001B[39m\u001B[33m\"\u001B[39m, exc_info=\u001B[38;5;28;01mTrue\u001B[39;00m)\n",
      "\u001B[31mKeyboardInterrupt\u001B[39m: Interrupted by user"
     ]
    }
   ],
   "execution_count": 22
  },
  {
   "metadata": {},
   "cell_type": "markdown",
   "source": "2eme run",
   "id": "9a77c5b6f579c14e"
  },
  {
   "metadata": {
    "ExecuteTime": {
     "end_time": "2025-07-30T05:57:31.910137469Z",
     "start_time": "2025-07-29T16:33:11.152950Z"
    }
   },
   "cell_type": "code",
   "source": [
    "### j'ai ajouté le \"\"\" pour rendre le code valide\n",
    "\"\"\"\n",
    "generete une fonction pour calculer la somme des 5 premiers chiffres\n",
    "définit les chiffres en fonction de la division par 5\n",
    "\"\"\"\n",
    "\n",
    "def somme():\n",
    "\n",
    "    somme = 0\n",
    "\n",
    "    for i in range(5):\n",
    "        somme = somme + int(input(\"Entrez le chiffre : \"))\n",
    "\n",
    "    print(somme)\n",
    "\n",
    "somme()\n"
   ],
   "id": "7832785d34199054",
   "outputs": [
    {
     "name": "stdout",
     "output_type": "stream",
     "text": [
      "11\n"
     ]
    }
   ],
   "execution_count": 38
  }
 ],
 "metadata": {
  "kernelspec": {
   "display_name": "Python 3",
   "language": "python",
   "name": "python3"
  },
  "language_info": {
   "codemirror_mode": {
    "name": "ipython",
    "version": 2
   },
   "file_extension": ".py",
   "mimetype": "text/x-python",
   "name": "python",
   "nbconvert_exporter": "python",
   "pygments_lexer": "ipython2",
   "version": "2.7.6"
  }
 },
 "nbformat": 4,
 "nbformat_minor": 5
}
