{
 "cells": [
  {
   "metadata": {},
   "cell_type": "markdown",
   "source": [
    "# Exemple d'utilisation d'un transfcormer dans le cadre de la génération de code.\n",
    "\n",
    "On utilise au chois les modeles\n",
    "\n",
    "* codegen-350M-mono\n",
    "* codegen-2B-mono\n",
    "*"
   ],
   "id": "221643bb67bb1c5f"
  },
  {
   "metadata": {
    "ExecuteTime": {
     "end_time": "2025-08-02T10:23:11.478015Z",
     "start_time": "2025-08-02T10:23:11.476010Z"
    }
   },
   "cell_type": "code",
   "source": "model_name = \"Salesforce/codegen-350M-mono\"",
   "id": "e0d7ac62e8466100",
   "outputs": [],
   "execution_count": 1
  },
  {
   "metadata": {},
   "cell_type": "markdown",
   "source": [
    "# Observations\n",
    "\n",
    "* En promptant sur un debut de code le model est capable de prédire du code correcte sur des soucis simple mais pas parfait\n",
    "* En utilisant le model il semble y avoir conservation du context\n",
    "    * Pour vérifier réinitialisé l'appel entre chaque"
   ],
   "id": "777256518e6c8f42"
  },
  {
   "metadata": {},
   "cell_type": "markdown",
   "source": "## Initialisation du model",
   "id": "f6a5e148407fe210"
  },
  {
   "metadata": {
    "ExecuteTime": {
     "end_time": "2025-08-02T10:23:34.061955Z",
     "start_time": "2025-08-02T10:23:32.712384Z"
    }
   },
   "cell_type": "code",
   "source": [
    "import torch\n",
    "from transformers import AutoTokenizer, AutoModelForCausalLM"
   ],
   "id": "2612531cdf85d1be",
   "outputs": [],
   "execution_count": 3
  },
  {
   "metadata": {
    "ExecuteTime": {
     "end_time": "2025-08-02T10:23:38.585648Z",
     "start_time": "2025-08-02T10:23:35.785842Z"
    }
   },
   "cell_type": "code",
   "source": [
    "# Création du tokenniser\n",
    "tokenizer = AutoTokenizer.from_pretrained(model_name)\n",
    "\n",
    "# Chargement du model\n",
    "model = AutoModelForCausalLM.from_pretrained(model_name)\n",
    "\n",
    "# On declare en global (beurk !) le device pour tester\n",
    "device = None\n",
    "\n",
    "# Vérifie si le GPU est disponible avant de continuer, on met alors à jour device\n",
    "if torch.cuda.is_available():\n",
    "    # Sélectionne spécifiquement le premier GPU (device 0)\n",
    "    device = torch.device(\"cuda:0\")\n",
    "    print(\"Utilisation du GPU :\", torch.cuda.get_device_name(0))\n",
    "else:\n",
    "    device = torch.device(\"cpu\")\n",
    "    print(\"GPU non trouvé, utilisation du CPU.\")\n",
    "\n",
    "# Déplace le modèle vers le GPU 0\n",
    "# ca plante !\n",
    "model.to(device)\n"
   ],
   "id": "cb713a8b98b6a819",
   "outputs": [
    {
     "name": "stderr",
     "output_type": "stream",
     "text": [
      "Some weights of the model checkpoint at Salesforce/codegen-350M-mono were not used when initializing CodeGenForCausalLM: ['transformer.h.0.attn.causal_mask', 'transformer.h.1.attn.causal_mask', 'transformer.h.10.attn.causal_mask', 'transformer.h.11.attn.causal_mask', 'transformer.h.12.attn.causal_mask', 'transformer.h.13.attn.causal_mask', 'transformer.h.14.attn.causal_mask', 'transformer.h.15.attn.causal_mask', 'transformer.h.16.attn.causal_mask', 'transformer.h.17.attn.causal_mask', 'transformer.h.18.attn.causal_mask', 'transformer.h.19.attn.causal_mask', 'transformer.h.2.attn.causal_mask', 'transformer.h.3.attn.causal_mask', 'transformer.h.4.attn.causal_mask', 'transformer.h.5.attn.causal_mask', 'transformer.h.6.attn.causal_mask', 'transformer.h.7.attn.causal_mask', 'transformer.h.8.attn.causal_mask', 'transformer.h.9.attn.causal_mask']\n",
      "- This IS expected if you are initializing CodeGenForCausalLM from the checkpoint of a model trained on another task or with another architecture (e.g. initializing a BertForSequenceClassification model from a BertForPreTraining model).\n",
      "- This IS NOT expected if you are initializing CodeGenForCausalLM from the checkpoint of a model that you expect to be exactly identical (initializing a BertForSequenceClassification model from a BertForSequenceClassification model).\n"
     ]
    },
    {
     "name": "stdout",
     "output_type": "stream",
     "text": [
      "Utilisation du GPU : NVIDIA GeForce RTX 3080 Ti\n"
     ]
    },
    {
     "data": {
      "text/plain": [
       "CodeGenForCausalLM(\n",
       "  (transformer): CodeGenModel(\n",
       "    (wte): Embedding(51200, 1024)\n",
       "    (drop): Dropout(p=0.0, inplace=False)\n",
       "    (h): ModuleList(\n",
       "      (0-19): 20 x CodeGenBlock(\n",
       "        (ln_1): LayerNorm((1024,), eps=1e-05, elementwise_affine=True)\n",
       "        (attn): CodeGenAttention(\n",
       "          (attn_dropout): Dropout(p=0.0, inplace=False)\n",
       "          (resid_dropout): Dropout(p=0.0, inplace=False)\n",
       "          (qkv_proj): Linear(in_features=1024, out_features=3072, bias=False)\n",
       "          (out_proj): Linear(in_features=1024, out_features=1024, bias=False)\n",
       "        )\n",
       "        (mlp): CodeGenMLP(\n",
       "          (fc_in): Linear(in_features=1024, out_features=4096, bias=True)\n",
       "          (fc_out): Linear(in_features=4096, out_features=1024, bias=True)\n",
       "          (act): NewGELUActivation()\n",
       "          (dropout): Dropout(p=0.0, inplace=False)\n",
       "        )\n",
       "      )\n",
       "    )\n",
       "    (ln_f): LayerNorm((1024,), eps=1e-05, elementwise_affine=True)\n",
       "  )\n",
       "  (lm_head): Linear(in_features=1024, out_features=51200, bias=True)\n",
       ")"
      ]
     },
     "execution_count": 4,
     "metadata": {},
     "output_type": "execute_result"
    }
   ],
   "execution_count": 4
  },
  {
   "metadata": {
    "ExecuteTime": {
     "end_time": "2025-08-02T10:23:42.769061Z",
     "start_time": "2025-08-02T10:23:42.767340Z"
    }
   },
   "cell_type": "code",
   "source": [
    "# Parametres du model\n",
    "\n",
    "max_length=200,  # Adjust as needed\n",
    "num_beams=5,      # Adjust for quality/speed trade-off\n",
    "temperature=0.7,  # Adjust for creativity (higher = more creative)\n",
    "top_k=40,         # Adjust for sampling\n",
    "top_p=0.95,        # Adjust for sampling\n",
    "pad_token_id=tokenizer.eos_token_id # Important for some models"
   ],
   "id": "f5e531cd898ec3a4",
   "outputs": [],
   "execution_count": 5
  },
  {
   "metadata": {
    "ExecuteTime": {
     "end_time": "2025-08-02T10:23:49.772888Z",
     "start_time": "2025-08-02T10:23:49.770356Z"
    }
   },
   "cell_type": "code",
   "source": [
    "def do_predict(model,\n",
    "               prompt: str,\n",
    "               max_length: int = 200,\n",
    "               temperature: float = 0.7,\n",
    "               top_k: int = 40,\n",
    "               top_p: float = 0.9,\n",
    "               pad_token_id: int = tokenizer.eos_token_id):\n",
    "    print(f\"Prompte : {prompt}\\n----\")\n",
    "    input_ids = tokenizer(prompt, return_tensors=\"pt\").input_ids\n",
    "\n",
    "    # On doit transférer les sequence de token dans le GPU.\n",
    "    input_ids = input_ids.to(device)\n",
    "\n",
    "    print(f\"Input ids : {input_ids}\")\n",
    "    print(\"---\")\n",
    "    generated_ids = model.generate(input_ids,\n",
    "                                   max_length=max_length,\n",
    "                                   temperature=temperature,\n",
    "                                   top_k=top_k,\n",
    "                                   top_p=top_p,\n",
    "                                   pad_token_id=pad_token_id,\n",
    "                                   do_sample=True)\n",
    "    print(\"----\")\n",
    "    print(generated_ids[0])\n",
    "    print(\"----\")\n",
    "    return tokenizer.decode(generated_ids[0], skip_special_tokens=True)\n"
   ],
   "id": "d47a6779768f2283",
   "outputs": [],
   "execution_count": 6
  },
  {
   "metadata": {},
   "cell_type": "markdown",
   "source": [
    "## Utilisation pour faire de la completion de code\n",
    "\n",
    "On fournis un fragment de code et on demande au modele de compléter."
   ],
   "id": "40a2c835d1b61720"
  },
  {
   "metadata": {
    "ExecuteTime": {
     "end_time": "2025-07-30T05:57:20.129007Z",
     "start_time": "2025-07-30T05:57:20.128112Z"
    }
   },
   "cell_type": "code",
   "source": "",
   "id": "59a259e1b78b05ee",
   "outputs": [],
   "execution_count": null
  },
  {
   "cell_type": "code",
   "id": "initial_id",
   "metadata": {
    "collapsed": true,
    "ExecuteTime": {
     "end_time": "2025-08-02T10:24:03.108268Z",
     "start_time": "2025-08-02T10:24:01.892768Z"
    }
   },
   "source": [
    "text = \"\"\"\n",
    "a = 1\n",
    "b = 2\n",
    "if a > b:\n",
    "    print(f\"{a} est supérieur à {b}\"\n",
    "else:\n",
    "\"\"\"\n",
    "\n",
    "print(do_predict(model, text))\n"
   ],
   "outputs": [
    {
     "name": "stderr",
     "output_type": "stream",
     "text": [
      "The attention mask is not set and cannot be inferred from input because pad token is same as eos token. As a consequence, you may observe unexpected behavior. Please pass your input's `attention_mask` to obtain reliable results.\n"
     ]
    },
    {
     "name": "stdout",
     "output_type": "stream",
     "text": [
      "Prompte : \n",
      "a = 1\n",
      "b = 2\n",
      "if a > b:\n",
      "    print(f\"{a} est supérieur à {b}\"\n",
      "else:\n",
      "\n",
      "----\n",
      "Input ids : tensor([[  198,    64,   796,   352,   198,    65,   796,   362,   198,   361,\n",
      "           257,  1875,   275,    25,   198, 50284,  4798,     7,    69,     1,\n",
      "            90,    64,    92,  1556,  7418,  2634,  5034,   333, 28141,  1391,\n",
      "            65, 36786,   198, 17772,    25,   198]], device='cuda:0')\n",
      "---\n",
      "----\n",
      "tensor([  198,    64,   796,   352,   198,    65,   796,   362,   198,   361,\n",
      "          257,  1875,   275,    25,   198, 50284,  4798,     7,    69,     1,\n",
      "           90,    64,    92,  1556,  7418,  2634,  5034,   333, 28141,  1391,\n",
      "           65, 36786,   198, 17772,    25,   198, 50284,  4798,     7,    69,\n",
      "            1,    90,    64,    92,  1556,  1167,  2634,  5034,   333, 28141,\n",
      "         1391,    65, 36786,   198,   198,     2,  1475,   368,  1154,   390,\n",
      "         4006,   198,   361,   257,  1875,   275,    25,   198, 50284,  4798,\n",
      "            7,    69,     1,    90,    64,    92,  1556,  7418,  2634,  5034,\n",
      "          333, 28141,  1391,    65, 36786,   198,   198,     2,  1475,   368,\n",
      "         1154,   390,  4006,   198,   361,   257,  1875,   275,    25,   198,\n",
      "        50284,  4798,     7,    69,     1,    90,    64,    92,  1556,  7418,\n",
      "         2634,  5034,   333, 28141,  1391,    65, 36786,   198, 17772,    25,\n",
      "          198, 50284,  4798,     7,    69,     1,    90,    64,    92,  1556,\n",
      "         1167,  2634,  5034,   333, 28141,  1391,    65, 36786,   198,   198,\n",
      "            2,  1475,   368,  1154,   390,  4006,   198,   361,   257,  1875,\n",
      "          275,    25,   198, 50284,  4798,     7,    69,     1,    90,    64,\n",
      "           92,  1556,  7418,  2634,  5034,   333, 28141,  1391,    65, 36786,\n",
      "          198, 17772,    25,   198, 50284,  4798,     7,    69,     1,    90,\n",
      "           64,    92,  1556,  1167,  2634,  5034,   333, 28141,  1391,    65,\n",
      "        36786,   198,   198,     2,  1475,   368,  1154,   390,  4006,   198],\n",
      "       device='cuda:0')\n",
      "----\n",
      "\n",
      "a = 1\n",
      "b = 2\n",
      "if a > b:\n",
      "    print(f\"{a} est supérieur à {b}\"\n",
      "else:\n",
      "    print(f\"{a} est inférieur à {b}\"\n",
      "\n",
      "# Exemple de condition\n",
      "if a > b:\n",
      "    print(f\"{a} est supérieur à {b}\"\n",
      "\n",
      "# Exemple de condition\n",
      "if a > b:\n",
      "    print(f\"{a} est supérieur à {b}\"\n",
      "else:\n",
      "    print(f\"{a} est inférieur à {b}\"\n",
      "\n",
      "# Exemple de condition\n",
      "if a > b:\n",
      "    print(f\"{a} est supérieur à {b}\"\n",
      "else:\n",
      "    print(f\"{a} est inférieur à {b}\"\n",
      "\n",
      "# Exemple de condition\n",
      "\n"
     ]
    }
   ],
   "execution_count": 7
  },
  {
   "metadata": {
    "ExecuteTime": {
     "end_time": "2025-08-02T10:24:33.176795Z",
     "start_time": "2025-08-02T10:24:33.010328Z"
    }
   },
   "cell_type": "code",
   "source": "print(do_predict(model, text, temperature=1))",
   "id": "adc34b199a9402e5",
   "outputs": [
    {
     "name": "stdout",
     "output_type": "stream",
     "text": [
      "Prompte : \n",
      "a = 1\n",
      "b = 2\n",
      "if a > b:\n",
      "    print(f\"{a} est supérieur à {b}\"\n",
      "else:\n",
      "\n",
      "----\n",
      "Input ids : tensor([[  198,    64,   796,   352,   198,    65,   796,   362,   198,   361,\n",
      "           257,  1875,   275,    25,   198, 50284,  4798,     7,    69,     1,\n",
      "            90,    64,    92,  1556,  7418,  2634,  5034,   333, 28141,  1391,\n",
      "            65, 36786,   198, 17772,    25,   198]], device='cuda:0')\n",
      "---\n",
      "----\n",
      "tensor([  198,    64,   796,   352,   198,    65,   796,   362,   198,   361,\n",
      "          257,  1875,   275,    25,   198, 50284,  4798,     7,    69,     1,\n",
      "           90,    64,    92,  1556,  7418,  2634,  5034,   333, 28141,  1391,\n",
      "           65, 36786,   198, 17772,    25,   198, 50284,  4798,     7,    69,\n",
      "            1,    90,    65,    92,  1556,  1036, 22940,   344, 28141,  1391,\n",
      "           64, 36786,   198, 50284,     8, 50256], device='cuda:0')\n",
      "----\n",
      "\n",
      "a = 1\n",
      "b = 2\n",
      "if a > b:\n",
      "    print(f\"{a} est supérieur à {b}\"\n",
      "else:\n",
      "    print(f\"{b} est grâce à {a}\"\n",
      "    )\n"
     ]
    }
   ],
   "execution_count": 8
  },
  {
   "metadata": {
    "ExecuteTime": {
     "end_time": "2025-08-02T10:24:40.221616Z",
     "start_time": "2025-08-02T10:24:39.172246Z"
    }
   },
   "cell_type": "code",
   "source": "print(do_predict(model, text, temperature=0.01))",
   "id": "dcc75ca4f08abd67",
   "outputs": [
    {
     "name": "stdout",
     "output_type": "stream",
     "text": [
      "Prompte : \n",
      "a = 1\n",
      "b = 2\n",
      "if a > b:\n",
      "    print(f\"{a} est supérieur à {b}\"\n",
      "else:\n",
      "\n",
      "----\n",
      "Input ids : tensor([[  198,    64,   796,   352,   198,    65,   796,   362,   198,   361,\n",
      "           257,  1875,   275,    25,   198, 50284,  4798,     7,    69,     1,\n",
      "            90,    64,    92,  1556,  7418,  2634,  5034,   333, 28141,  1391,\n",
      "            65, 36786,   198, 17772,    25,   198]], device='cuda:0')\n",
      "---\n",
      "----\n",
      "tensor([  198,    64,   796,   352,   198,    65,   796,   362,   198,   361,\n",
      "          257,  1875,   275,    25,   198, 50284,  4798,     7,    69,     1,\n",
      "           90,    64,    92,  1556,  7418,  2634,  5034,   333, 28141,  1391,\n",
      "           65, 36786,   198, 17772,    25,   198, 50284,  4798,     7,    69,\n",
      "            1,    90,    65,    92,  1556,  7418,  2634,  5034,   333, 28141,\n",
      "         1391,    64,    92,  4943,   198,   198,     2,  1475,  2798,   501,\n",
      "          198,   198,     2,   352,    13,   198,     2,  1550,  3512,    68,\n",
      "        28141,   300,     6, 22602,   271, 15093,   390,   473,   271,   343,\n",
      "          555,   299,  2381,   260,   920,   959,    13,   198,     2,  1550,\n",
      "         1527, 14234,   443,   299,  2381,   260,   920,   959,   473, 23267,\n",
      "           13,   198,     2,  1550,  3512,    68, 28141,   300,     6, 22602,\n",
      "          271, 15093,   390,   473,   271,   343,   555,   299,  2381,   260,\n",
      "          920,   959,    13,   198,     2,  1550,  1527, 14234,   443,   299,\n",
      "         2381,   260,   920,   959,   473, 23267,    13,   198,     2,  1550,\n",
      "         3512,    68, 28141,   300,     6, 22602,   271, 15093,   390,   473,\n",
      "          271,   343,   555,   299,  2381,   260,   920,   959,    13,   198,\n",
      "            2,  1550,  1527, 14234,   443,   299,  2381,   260,   920,   959,\n",
      "          473, 23267,    13,   198,     2,  1550,  3512,    68, 28141,   300,\n",
      "            6, 22602,   271, 15093,   390,   473,   271,   343,   555,   299,\n",
      "         2381,   260,   920,   959,    13,   198,     2,  1550,  1527, 14234],\n",
      "       device='cuda:0')\n",
      "----\n",
      "\n",
      "a = 1\n",
      "b = 2\n",
      "if a > b:\n",
      "    print(f\"{a} est supérieur à {b}\"\n",
      "else:\n",
      "    print(f\"{b} est supérieur à {a}\")\n",
      "\n",
      "# Exercice\n",
      "\n",
      "# 1.\n",
      "# On demande à l'utilisateur de saisir un nombre entier.\n",
      "# On affiche le nombre entier saisi.\n",
      "# On demande à l'utilisateur de saisir un nombre entier.\n",
      "# On affiche le nombre entier saisi.\n",
      "# On demande à l'utilisateur de saisir un nombre entier.\n",
      "# On affiche le nombre entier saisi.\n",
      "# On demande à l'utilisateur de saisir un nombre entier.\n",
      "# On affiche\n"
     ]
    }
   ],
   "execution_count": 9
  },
  {
   "metadata": {
    "ExecuteTime": {
     "end_time": "2025-08-02T10:24:56.237187Z",
     "start_time": "2025-08-02T10:24:50.122620Z"
    }
   },
   "cell_type": "code",
   "source": "print(do_predict(model, text, temperature=0.01, max_length=1024))",
   "id": "59174e8596193e39",
   "outputs": [
    {
     "name": "stdout",
     "output_type": "stream",
     "text": [
      "Prompte : \n",
      "a = 1\n",
      "b = 2\n",
      "if a > b:\n",
      "    print(f\"{a} est supérieur à {b}\"\n",
      "else:\n",
      "\n",
      "----\n",
      "Input ids : tensor([[  198,    64,   796,   352,   198,    65,   796,   362,   198,   361,\n",
      "           257,  1875,   275,    25,   198, 50284,  4798,     7,    69,     1,\n",
      "            90,    64,    92,  1556,  7418,  2634,  5034,   333, 28141,  1391,\n",
      "            65, 36786,   198, 17772,    25,   198]], device='cuda:0')\n",
      "---\n",
      "----\n",
      "tensor([198,  64, 796,  ..., 959,  13, 198], device='cuda:0')\n",
      "----\n",
      "\n",
      "a = 1\n",
      "b = 2\n",
      "if a > b:\n",
      "    print(f\"{a} est supérieur à {b}\"\n",
      "else:\n",
      "    print(f\"{b} est supérieur à {a}\")\n",
      "\n",
      "# Exercice\n",
      "\n",
      "# 1.\n",
      "# On demande à l'utilisateur de saisir un nombre entier.\n",
      "# On affiche le nombre entier saisi.\n",
      "# On demande à l'utilisateur de saisir un nombre entier.\n",
      "# On affiche le nombre entier saisi.\n",
      "# On demande à l'utilisateur de saisir un nombre entier.\n",
      "# On affiche le nombre entier saisi.\n",
      "# On demande à l'utilisateur de saisir un nombre entier.\n",
      "# On affiche le nombre entier saisi.\n",
      "# On demande à l'utilisateur de saisir un nombre entier.\n",
      "# On affiche le nombre entier saisi.\n",
      "# On demande à l'utilisateur de saisir un nombre entier.\n",
      "# On affiche le nombre entier saisi.\n",
      "# On demande à l'utilisateur de saisir un nombre entier.\n",
      "# On affiche le nombre entier saisi.\n",
      "# On demande à l'utilisateur de saisir un nombre entier.\n",
      "# On affiche le nombre entier saisi.\n",
      "# On demande à l'utilisateur de saisir un nombre entier.\n",
      "# On affiche le nombre entier saisi.\n",
      "# On demande à l'utilisateur de saisir un nombre entier.\n",
      "# On affiche le nombre entier saisi.\n",
      "# On demande à l'utilisateur de saisir un nombre entier.\n",
      "# On affiche le nombre entier saisi.\n",
      "# On demande à l'utilisateur de saisir un nombre entier.\n",
      "# On affiche le nombre entier saisi.\n",
      "# On demande à l'utilisateur de saisir un nombre entier.\n",
      "# On affiche le nombre entier saisi.\n",
      "# On demande à l'utilisateur de saisir un nombre entier.\n",
      "# On affiche le nombre entier saisi.\n",
      "# On demande à l'utilisateur de saisir un nombre entier.\n",
      "# On affiche le nombre entier saisi.\n",
      "# On demande à l'utilisateur de saisir un nombre entier.\n",
      "# On affiche le nombre entier saisi.\n",
      "# On demande à l'utilisateur de saisir un nombre entier.\n",
      "# On affiche le nombre entier saisi.\n",
      "# On demande à l'utilisateur de saisir un nombre entier.\n",
      "# On affiche le nombre entier saisi.\n",
      "# On demande à l'utilisateur de saisir un nombre entier.\n",
      "# On affiche le nombre entier saisi.\n",
      "# On demande à l'utilisateur de saisir un nombre entier.\n",
      "# On affiche le nombre entier saisi.\n",
      "# On demande à l'utilisateur de saisir un nombre entier.\n",
      "# On affiche le nombre entier saisi.\n",
      "# On demande à l'utilisateur de saisir un nombre entier.\n",
      "# On affiche le nombre entier saisi.\n",
      "# On demande à l'utilisateur de saisir un nombre entier.\n",
      "# On affiche le nombre entier saisi.\n",
      "# On demande à l'utilisateur de saisir un nombre entier.\n",
      "# On affiche le nombre entier saisi.\n",
      "# On demande à l'utilisateur de saisir un nombre entier.\n",
      "# On affiche le nombre entier saisi.\n",
      "# On demande à l'utilisateur de saisir un nombre entier.\n",
      "# On affiche le nombre entier saisi.\n",
      "# On demande à l'utilisateur de saisir un nombre entier.\n",
      "\n"
     ]
    }
   ],
   "execution_count": 10
  },
  {
   "metadata": {
    "ExecuteTime": {
     "end_time": "2025-08-02T10:25:21.628778Z",
     "start_time": "2025-08-02T10:25:20.545493Z"
    }
   },
   "cell_type": "code",
   "source": [
    "print(do_predict(model, \"\"\"\n",
    "generete une fonction pour calculer la somme des 5 premiers chiffres\n",
    "\"\"\"))"
   ],
   "id": "ed3bcf99fe528cdd",
   "outputs": [
    {
     "name": "stdout",
     "output_type": "stream",
     "text": [
      "Prompte : \n",
      "generete une fonction pour calculer la somme des 5 premiers chiffres\n",
      "\n",
      "----\n",
      "Input ids : tensor([[  198,  5235,   567,   660, 17809,   277,   261,   596, 12797,  5204,\n",
      "           263,  8591,  3870,  1326,   748,   642,  4199,  3183,   442,   733,\n",
      "           411,   198]], device='cuda:0')\n",
      "---\n",
      "----\n",
      "tensor([  198,  5235,   567,   660, 17809,   277,   261,   596, 12797,  5204,\n",
      "          263,  8591,  3870,  1326,   748,   642,  4199,  3183,   442,   733,\n",
      "          411,   198, 37811,   198,   198,  4299,  2160,     7,    77,  2599,\n",
      "          198, 50284, 37811,   198, 50284,    25, 17143,   299,    25,   443,\n",
      "          299,  2381,   260,   390,   442,   733,   411,   198, 50284,    25,\n",
      "         7783,    25,   443,   299,  2381,   260,   390,   442,   733,   411,\n",
      "          198, 50284, 37811,   198, 50284,    72,   796,   657,   198, 50284,\n",
      "         4514,  1312,  1279,   299,    25,   198, 50280,    72, 15853,   352,\n",
      "          198, 50280,   361,  1312,  6624,   642,    25,   198, 50276,  7783,\n",
      "         1312,   198,   198,     2,  6208,   390,  8591,   277,   261,   596,\n",
      "          198,   198,  4798,     7, 16345,     7,    20,  4008,   198,  4798,\n",
      "            7, 16345,     7,    21,  4008,   198,  4798,     7, 16345,     7,\n",
      "           22,  4008,   198,  4798,     7, 16345,     7,    23,  4008,   198,\n",
      "         4798,     7, 16345,     7,    24,  4008,   198,  4798,     7, 16345,\n",
      "            7,   940,  4008,   198,  4798,     7, 16345,     7,  1157,  4008,\n",
      "          198,  4798,     7, 16345,     7,  1065,  4008,   198,  4798,     7,\n",
      "        16345,     7,  1485,  4008,   198,  4798,     7, 16345,     7,  1415,\n",
      "         4008,   198,  4798,     7, 16345,     7,  1314,  4008,   198,  4798,\n",
      "            7, 16345,     7,  1433,  4008,   198,  4798,     7, 16345,     7,\n",
      "         1558,  4008,   198,  4798,     7, 16345,     7,  1507,  4008,   198],\n",
      "       device='cuda:0')\n",
      "----\n",
      "\n",
      "generete une fonction pour calculer la somme des 5 premiers chiffres\n",
      "\"\"\"\n",
      "\n",
      "def sum(n):\n",
      "    \"\"\"\n",
      "    :param n: le nombre de chiffres\n",
      "    :return: le nombre de chiffres\n",
      "    \"\"\"\n",
      "    i = 0\n",
      "    while i < n:\n",
      "        i += 1\n",
      "        if i == 5:\n",
      "            return i\n",
      "\n",
      "# Test de la fonction\n",
      "\n",
      "print(sum(5))\n",
      "print(sum(6))\n",
      "print(sum(7))\n",
      "print(sum(8))\n",
      "print(sum(9))\n",
      "print(sum(10))\n",
      "print(sum(11))\n",
      "print(sum(12))\n",
      "print(sum(13))\n",
      "print(sum(14))\n",
      "print(sum(15))\n",
      "print(sum(16))\n",
      "print(sum(17))\n",
      "print(sum(18))\n",
      "\n"
     ]
    }
   ],
   "execution_count": 11
  },
  {
   "metadata": {},
   "cell_type": "markdown",
   "source": "## test du code",
   "id": "f579c5e8dbabfa33"
  },
  {
   "metadata": {},
   "cell_type": "markdown",
   "source": "1er run",
   "id": "b20c794dad5304cb"
  },
  {
   "metadata": {
    "ExecuteTime": {
     "end_time": "2025-08-02T10:26:32.803783Z",
     "start_time": "2025-08-02T10:26:30.627350Z"
    }
   },
   "cell_type": "code",
   "source": [
    "def somme_chiffres(n):\n",
    "    \"\"\"\n",
    "    :param n: nombre de chiffres\n",
    "    :return: la somme des 5 premiers chiffres\n",
    "    \"\"\"\n",
    "    somme = 0\n",
    "    for i in range(n):\n",
    "        somme += i\n",
    "    return somme\n",
    "\n",
    "def main():\n",
    "    \"\"\"\n",
    "    :return: la somme des 5 premiers chiffres\n",
    "    \"\"\"\n",
    "    n = int(input(\"Entrer un nombre : \"))\n",
    "    print(somme_chiffres(n))\n",
    "\n",
    "if __name__ == \"__main__\":\n",
    "    main()"
   ],
   "id": "78551c9b97935e99",
   "outputs": [
    {
     "ename": "ValueError",
     "evalue": "invalid literal for int() with base 10: ''",
     "output_type": "error",
     "traceback": [
      "\u001B[31m---------------------------------------------------------------------------\u001B[39m",
      "\u001B[31mValueError\u001B[39m                                Traceback (most recent call last)",
      "\u001B[36mCell\u001B[39m\u001B[36m \u001B[39m\u001B[32mIn[12]\u001B[39m\u001B[32m, line 19\u001B[39m\n\u001B[32m     16\u001B[39m     \u001B[38;5;28mprint\u001B[39m(somme_chiffres(n))\n\u001B[32m     18\u001B[39m \u001B[38;5;28;01mif\u001B[39;00m \u001B[34m__name__\u001B[39m == \u001B[33m\"\u001B[39m\u001B[33m__main__\u001B[39m\u001B[33m\"\u001B[39m:\n\u001B[32m---> \u001B[39m\u001B[32m19\u001B[39m     \u001B[43mmain\u001B[49m\u001B[43m(\u001B[49m\u001B[43m)\u001B[49m\n",
      "\u001B[36mCell\u001B[39m\u001B[36m \u001B[39m\u001B[32mIn[12]\u001B[39m\u001B[32m, line 15\u001B[39m, in \u001B[36mmain\u001B[39m\u001B[34m()\u001B[39m\n\u001B[32m     11\u001B[39m \u001B[38;5;28;01mdef\u001B[39;00m\u001B[38;5;250m \u001B[39m\u001B[34mmain\u001B[39m():\n\u001B[32m     12\u001B[39m \u001B[38;5;250m    \u001B[39m\u001B[33;03m\"\"\"\u001B[39;00m\n\u001B[32m     13\u001B[39m \u001B[33;03m    :return: la somme des 5 premiers chiffres\u001B[39;00m\n\u001B[32m     14\u001B[39m \u001B[33;03m    \"\"\"\u001B[39;00m\n\u001B[32m---> \u001B[39m\u001B[32m15\u001B[39m     n = \u001B[38;5;28;43mint\u001B[39;49m\u001B[43m(\u001B[49m\u001B[38;5;28;43minput\u001B[39;49m\u001B[43m(\u001B[49m\u001B[33;43m\"\u001B[39;49m\u001B[33;43mEntrer un nombre : \u001B[39;49m\u001B[33;43m\"\u001B[39;49m\u001B[43m)\u001B[49m\u001B[43m)\u001B[49m\n\u001B[32m     16\u001B[39m     \u001B[38;5;28mprint\u001B[39m(somme_chiffres(n))\n",
      "\u001B[31mValueError\u001B[39m: invalid literal for int() with base 10: ''"
     ]
    }
   ],
   "execution_count": 12
  },
  {
   "metadata": {},
   "cell_type": "markdown",
   "source": "2eme run",
   "id": "9a77c5b6f579c14e"
  },
  {
   "metadata": {
    "ExecuteTime": {
     "end_time": "2025-08-02T10:26:53.068550Z",
     "start_time": "2025-08-02T10:26:37.206963Z"
    }
   },
   "cell_type": "code",
   "source": [
    "### j'ai ajouté le \"\"\" pour rendre le code valide\n",
    "\"\"\"\n",
    "generete une fonction pour calculer la somme des 5 premiers chiffres\n",
    "définit les chiffres en fonction de la division par 5\n",
    "\"\"\"\n",
    "\n",
    "def somme():\n",
    "\n",
    "    somme = 0\n",
    "\n",
    "    for i in range(5):\n",
    "        somme = somme + int(input(\"Entrez le chiffre : \"))\n",
    "\n",
    "    print(somme)\n",
    "\n",
    "somme()\n"
   ],
   "id": "7832785d34199054",
   "outputs": [
    {
     "name": "stdout",
     "output_type": "stream",
     "text": [
      "15\n"
     ]
    }
   ],
   "execution_count": 13
  },
  {
   "metadata": {},
   "cell_type": "markdown",
   "source": "3eme run",
   "id": "40118eea696d57d4"
  },
  {
   "metadata": {
    "ExecuteTime": {
     "end_time": "2025-08-02T10:29:39.532212Z",
     "start_time": "2025-08-02T10:29:39.529920Z"
    }
   },
   "cell_type": "code",
   "source": [
    "# encore les \"\"\" manquant au debut\n",
    "# code valide mais inutil et ne répondant pas à la demande.\n",
    "\"\"\"\n",
    "generete une fonction pour calculer la somme des 5 premiers chiffres\n",
    "\"\"\"\n",
    "\n",
    "def sum(n):\n",
    "    \"\"\"\n",
    "    :param n: le nombre de chiffres\n",
    "    :return: le nombre de chiffres\n",
    "    \"\"\"\n",
    "    i = 0\n",
    "    while i < n:\n",
    "        i += 1\n",
    "        if i == 5:\n",
    "            return i\n",
    "\n",
    "# Test de la fonction\n",
    "\n",
    "print(sum(5))\n",
    "print(sum(6))\n",
    "print(sum(7))\n",
    "print(sum(8))\n",
    "print(sum(9))\n",
    "print(sum(10))\n",
    "print(sum(11))\n",
    "print(sum(12))\n",
    "print(sum(13))\n",
    "print(sum(14))\n",
    "print(sum(15))\n",
    "print(sum(16))\n",
    "print(sum(17))\n",
    "print(sum(18))"
   ],
   "id": "521e2ec8e82b0e9a",
   "outputs": [
    {
     "name": "stdout",
     "output_type": "stream",
     "text": [
      "5\n",
      "5\n",
      "5\n",
      "5\n",
      "5\n",
      "5\n",
      "5\n",
      "5\n",
      "5\n",
      "5\n",
      "5\n",
      "5\n",
      "5\n",
      "5\n"
     ]
    }
   ],
   "execution_count": 15
  }
 ],
 "metadata": {
  "kernelspec": {
   "display_name": "Python 3",
   "language": "python",
   "name": "python3"
  },
  "language_info": {
   "codemirror_mode": {
    "name": "ipython",
    "version": 2
   },
   "file_extension": ".py",
   "mimetype": "text/x-python",
   "name": "python",
   "nbconvert_exporter": "python",
   "pygments_lexer": "ipython2",
   "version": "2.7.6"
  }
 },
 "nbformat": 4,
 "nbformat_minor": 5
}
