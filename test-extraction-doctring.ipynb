{
 "cells": [
  {
   "cell_type": "code",
   "id": "initial_id",
   "metadata": {
    "collapsed": true,
    "ExecuteTime": {
     "end_time": "2025-07-30T05:40:26.512227Z",
     "start_time": "2025-07-30T05:40:26.500665Z"
    }
   },
   "source": [
    "import ast\n",
    "\n",
    "def extraire_docstring(code_source: str) -> str | None:\n",
    "    \"\"\"\n",
    "    Extrait la docstring d'un module à partir d'une chaîne de caractères.\n",
    "\n",
    "    Args:\n",
    "      code_source: Une chaîne contenant le code Python valide.\n",
    "\n",
    "    Returns:\n",
    "      La docstring trouvée, ou None si aucune n'est présente.\n",
    "    \"\"\"\n",
    "    try:\n",
    "        # Analyse le code source pour construire un arbre syntaxique abstrait\n",
    "        arbre = ast.parse(code_source)\n",
    "        # Récupère la docstring du nœud de plus haut niveau (le module)\n",
    "        docstring = ast.get_docstring(arbre)\n",
    "        return docstring\n",
    "    except SyntaxError:\n",
    "        # Retourne None si le code source n'est pas valide\n",
    "        return None\n",
    "\n",
    "# --- Exemple d'utilisation ---\n",
    "\n",
    "# 1. Code avec une docstring de module\n",
    "code_avec_docstring = '''\n",
    "\"\"\"\n",
    "Ceci est un exemple de docstring pour un module.\n",
    "\n",
    "Ce module ne fait rien d'utile, à part illustrer l'extraction de docstrings.\n",
    "\"\"\"\n",
    "\n",
    "def ma_fonction():\n",
    "  \"\"\"Ceci est la docstring d'une fonction, elle ne sera pas extraite.\"\"\"\n",
    "  pass\n",
    "'''\n",
    "\n",
    "# 2. Code sans docstring de module\n",
    "code_sans_docstring = '''\n",
    "# Pas de docstring ici\n",
    "import os\n",
    "\n",
    "def une_autre_fonction():\n",
    "    print(\"Hello, World!\")\n",
    "'''\n",
    "\n",
    "# Extraction et affichage des résultats\n",
    "docstring_trouvee = extraire_docstring(code_avec_docstring)\n",
    "docstring_absente = extraire_docstring(code_sans_docstring)\n",
    "\n",
    "print(f\"--- Docstring trouvée --- \\n{docstring_trouvee}\")\n",
    "print(\"\\n--- Pour le code sans docstring ---\")\n",
    "print(f\"Résultat : {docstring_absente}\")"
   ],
   "outputs": [
    {
     "name": "stdout",
     "output_type": "stream",
     "text": [
      "--- Docstring trouvée --- \n",
      "Ceci est un exemple de docstring pour un module.\n",
      "\n",
      "Ce module ne fait rien d'utile, à part illustrer l'extraction de docstrings.\n",
      "\n",
      "--- Pour le code sans docstring ---\n",
      "Résultat : None\n"
     ]
    }
   ],
   "execution_count": 2
  },
  {
   "metadata": {
    "ExecuteTime": {
     "end_time": "2025-07-30T01:21:01.780712Z",
     "start_time": "2025-07-30T01:21:01.727243Z"
    }
   },
   "cell_type": "code",
   "source": [
    "code_source = '''\n",
    "\"\"\"\n",
    "Ceci est un exemple de docstring pour un module.\n",
    "\n",
    "Ce module ne fait rien d'utile, à part illustrer l'extraction de docstrings.\n",
    "\"\"\"\n",
    "\n",
    "def ma_fonction():\n",
    "  \"\"\"Ceci est la docstring d'une fonction, elle ne sera pas extraite.\"\"\"\n",
    "  pass\n",
    "'''\n",
    "arbre = ast.parse(code_source)\n",
    "arbre.body[0].__str__()"
   ],
   "id": "e0c187f47db484ba",
   "outputs": [
    {
     "ename": "NameError",
     "evalue": "name 'ast' is not defined",
     "output_type": "error",
     "traceback": [
      "\u001B[31m---------------------------------------------------------------------------\u001B[39m",
      "\u001B[31mNameError\u001B[39m                                 Traceback (most recent call last)",
      "\u001B[36mCell\u001B[39m\u001B[36m \u001B[39m\u001B[32mIn[1]\u001B[39m\u001B[32m, line 12\u001B[39m\n\u001B[32m      1\u001B[39m code_source = \u001B[33m'''\u001B[39m\n\u001B[32m      2\u001B[39m \u001B[33m\"\u001B[39m\u001B[33m\"\u001B[39m\u001B[33m\"\u001B[39m\n\u001B[32m      3\u001B[39m \u001B[33mCeci est un exemple de docstring pour un module.\u001B[39m\n\u001B[32m   (...)\u001B[39m\u001B[32m     10\u001B[39m \u001B[33m  pass\u001B[39m\n\u001B[32m     11\u001B[39m \u001B[33m'''\u001B[39m\n\u001B[32m---> \u001B[39m\u001B[32m12\u001B[39m arbre = \u001B[43mast\u001B[49m.parse(code_source)\n\u001B[32m     13\u001B[39m arbre.body[\u001B[32m0\u001B[39m].\u001B[34m__str__\u001B[39m()\n",
      "\u001B[31mNameError\u001B[39m: name 'ast' is not defined"
     ]
    }
   ],
   "execution_count": 1
  }
 ],
 "metadata": {
  "kernelspec": {
   "display_name": "Python 3",
   "language": "python",
   "name": "python3"
  },
  "language_info": {
   "codemirror_mode": {
    "name": "ipython",
    "version": 2
   },
   "file_extension": ".py",
   "mimetype": "text/x-python",
   "name": "python",
   "nbconvert_exporter": "python",
   "pygments_lexer": "ipython2",
   "version": "2.7.6"
  }
 },
 "nbformat": 4,
 "nbformat_minor": 5
}
